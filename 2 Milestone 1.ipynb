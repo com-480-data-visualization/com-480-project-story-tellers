{
 "cells": [
  {
   "cell_type": "markdown",
   "metadata": {},
   "source": [
    "# Milestone 1: \n",
    "\n",
    "In this notebook we develop the follwing sections for Milestone 1. \n",
    "\n",
    "\n",
    "\n",
    "<div class=\"toc\"><ul class=\"toc-item1\"><li><span><a href=\"#Problematic\" data-toc-modified-id=\"Problematic\">Problematic</a>\n",
    "</div>\n",
    "<div class=\"toc\"><ul class=\"toc-item2\"><li><span><a href=\"#Dataset\" data-toc-modified-id=\"Dataset\">Dataset</a>\n",
    "</div>\n",
    "<div class=\"toc\"><ul class=\"toc-item2\"><li><span><a href=\"#Exploratory Data Analysis\" data-toc-modified-id=\"Exploratory Data Analysis\">Exploratory Data Analysis</a>\n",
    "</div>\n",
    "<div class=\"toc\"><ul class=\"toc-item2\"><li><span><a href=\"#Related work\" data-toc-modified-id=\"Related work\">Related work</a>\n",
    "</div>    \n",
    "    \n",
    "Students: Mariam Hakobyan (298698), Tianchi Yu (319877), Wenuka Gunarathna (309398)\n"
   ]
  },
  {
   "cell_type": "markdown",
   "metadata": {},
   "source": [
    "## Problematic\n",
    "\n",
    "\n",
    "The project aims to visualize the swiss transport connections in different parts of the country and provide statistical-graphical visualization on the nodes connectivity, travelling time from station to station and pessenger capacities. The main pillars of the visualization will be:\n",
    "\n",
    "- **Swiss transport - map** composed of \n",
    "    - Scheduled transport movements in time on map,\n",
    "    - Route Maps.\n",
    "- TODO **Figures** ( Wenuka please lets discuss to fix the figures we want to show)\n",
    "    - Figure 2,3,4\n",
    "    \n",
    "    \n",
    "The **overview** of the visualization will be a process of interactive map in modes and graphical figures for statistical story-telling.  \n",
    "\n",
    "\n",
    "The **motivation** behind the idea is to visualize the process of the biggest **almost-neutral CO2** transport system work in Switzerland.\n",
    "\n",
    "The **target audience** is planned to include people who are interested in transportation systems, newtork visualizations, Switzerland and who are just curious about things in world. Will require a basic knowledge to understand the statistical figures.  \n"
   ]
  },
  {
   "cell_type": "markdown",
   "metadata": {},
   "source": [
    "## Dataset\n",
    "\n",
    "1. Sbb **schedule data** for normal weekdays/ends. The Dataset is Open source published by SBB\n",
    "2. Swiss map, station coordinates, transportation map(api access)\n",
    "3. Big station capacities\n"
   ]
  },
  {
   "cell_type": "markdown",
   "metadata": {},
   "source": [
    "The **schedule data** is under consideration to be used to visualize the transport movements in time on map.We obtain the data from [Open Data Platform Swiss Public Transport](https://opentransportdata.swiss/en/dataset/timetable-2020-hrdf). New schedules are being updated by the publisher. We have considered to use 2020 March 1st schedule, although new schedule after COVID-19 epidemic's preventaive measures can be visualized as well to see the difference of the process change in transportation.  \n",
    "\n",
    "TODO **Swiss Maps** what we will use and why,  some sources please refer to the word doc I put some things that I encounter \n",
    "\n",
    "TODO **Big station capacities** what we will use and why,  some sources please refer to the word doc I put some things that I encounter "
   ]
  },
  {
   "cell_type": "markdown",
   "metadata": {},
   "source": [
    "## Exploratory Data Analysis"
   ]
  },
  {
   "cell_type": "markdown",
   "metadata": {},
   "source": [
    "## Schedule Data: M TODO"
   ]
  },
  {
   "cell_type": "code",
   "execution_count": 4,
   "metadata": {},
   "outputs": [],
   "source": [
    "## TODO: add your part guys"
   ]
  },
  {
   "cell_type": "markdown",
   "metadata": {},
   "source": [
    "## Related work"
   ]
  },
  {
   "cell_type": "markdown",
   "metadata": {},
   "source": [
    "While generating the idea we have encountered several projects already related to the transportation system. \n",
    "- Transit visualization client the real time tracking of the trains for several countries by [TRAVIC](https://tracker.geops.ch/?z=8.199690625071526&s=1&x=857672.7153&y=5893181.5911&l=transport). \n",
    "- Ship transportation in Ocean by [Klin](https://www.shipmap.org/). \n",
    "\n",
    "The TRAVIC has Swiss transportation system in the map, but as it is real time tracking we cannot see the process of the point movements in some delta time as well as some information which we want to implement in this project. The source is quite informative and we may learn some details from it to incorporate into our visualization. \n",
    "\n",
    "The second source is actually very nice job for Ship transportation. The idea of the design and visualization creates several ideas for us to visualize the system on Swiss map and data. \n",
    "\n",
    "Work to be usefull: **Trafimage** maps are used to illustrate a whole range of topics relating to public transport in Switzerland. We will use probabely their API to have accurate transport map."
   ]
  }
 ],
 "metadata": {
  "kernelspec": {
   "display_name": "Python 3",
   "language": "python",
   "name": "python3"
  },
  "language_info": {
   "codemirror_mode": {
    "name": "ipython",
    "version": 3
   },
   "file_extension": ".py",
   "mimetype": "text/x-python",
   "name": "python",
   "nbconvert_exporter": "python",
   "pygments_lexer": "ipython3",
   "version": "3.6.8"
  }
 },
 "nbformat": 4,
 "nbformat_minor": 2
}
