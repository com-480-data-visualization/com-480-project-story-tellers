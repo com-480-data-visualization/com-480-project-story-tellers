{
 "cells": [
  {
   "cell_type": "markdown",
   "metadata": {
    "toc": true
   },
   "source": [
    "## Data processing for d3 figures  and GTFS data filtering"
   ]
  },
  {
   "cell_type": "code",
   "execution_count": 1,
   "metadata": {},
   "outputs": [],
   "source": [
    "# imports\n",
    "import warnings\n",
    "import numpy as np\n",
    "import pandas as pd\n",
    "import matplotlib.pyplot as plt\n",
    "import json\n",
    "from shapely.geometry import shape, Point\n",
    "\n",
    "\n",
    "DATAFOLDER = 'data'\n",
    "warnings.filterwarnings(\"ignore\")"
   ]
  },
  {
   "cell_type": "markdown",
   "metadata": {},
   "source": [
    "data source https://opentransportdata.swiss/en/dataset/timetable-2020-hrdf"
   ]
  },
  {
   "cell_type": "code",
   "execution_count": 2,
   "metadata": {},
   "outputs": [],
   "source": [
    "# read the .txt file and split the schedules by the separator '*Z '\n",
    "with open(DATAFOLDER + \"/2020_03_01/FPLAN\") as schedules:\n",
    "    text = schedules.read()\n",
    "result = text.split('*Z ')"
   ]
  },
  {
   "cell_type": "code",
   "execution_count": 3,
   "metadata": {},
   "outputs": [],
   "source": [
    "def int_list_time(a):\n",
    "    l = []\n",
    "    name = ''\n",
    "    for i in a:\n",
    "        if i.lstrip(\"-\").isdigit():\n",
    "            if len(i) == 5 or len(i) ==6:\n",
    "                l.append(i)\n",
    "        else:\n",
    "            name += i\n",
    "    return l, name           "
   ]
  },
  {
   "cell_type": "code",
   "execution_count": 4,
   "metadata": {},
   "outputs": [],
   "source": [
    "# format the .txt file results\n",
    "sch_number, route_number, transport_type, start_st_id, end_st_id, passing_st_ids, passing_st_names, st_arr_times, st_dep_times = ([] for i in range(9))\n",
    "for i in result[1:]:    \n",
    "    a = i.split('*')\n",
    "    # get the identical information about schedule \n",
    "    schedule_id = a[0].split()\n",
    "    route_number.append(schedule_id[0])\n",
    "    sch_number.append(schedule_id[-2])\n",
    "    # get the identical information about route \n",
    "    route_info = a[1].split()\n",
    "    transport_type.append(route_info[1])\n",
    "    start_st_id.append(route_info[2])\n",
    "    end_st_id.append(route_info[3])\n",
    "    st_id, station_name, arr_time, dep_time = ([] for i in range(4))\n",
    "    # the route detail\n",
    "    overall_sch = a[-1].split('%\\n')[1:-1]\n",
    "    for j in overall_sch:\n",
    "        route = j.strip().split()\n",
    "        st_id.append(route[0])\n",
    "        time, station_name = int_list_time(route)\n",
    "        arr_time.append(time[0])\n",
    "        dep_time.append(time[-1])\n",
    "    passing_st_ids.append(st_id)\n",
    "    passing_st_names.append(station_name)\n",
    "    st_arr_times.append(arr_time)\n",
    "    st_dep_times.append(dep_time)"
   ]
  },
  {
   "cell_type": "code",
   "execution_count": 5,
   "metadata": {
    "scrolled": true
   },
   "outputs": [
    {
     "data": {
      "text/html": [
       "<div>\n",
       "<style scoped>\n",
       "    .dataframe tbody tr th:only-of-type {\n",
       "        vertical-align: middle;\n",
       "    }\n",
       "\n",
       "    .dataframe tbody tr th {\n",
       "        vertical-align: top;\n",
       "    }\n",
       "\n",
       "    .dataframe thead th {\n",
       "        text-align: right;\n",
       "    }\n",
       "</style>\n",
       "<table border=\"1\" class=\"dataframe\">\n",
       "  <thead>\n",
       "    <tr style=\"text-align: right;\">\n",
       "      <th></th>\n",
       "      <th>schedule_id</th>\n",
       "      <th>route_number</th>\n",
       "      <th>transport_type</th>\n",
       "      <th>start_station_ID</th>\n",
       "      <th>end_station_ID</th>\n",
       "      <th>route_start_time</th>\n",
       "      <th>route_end_time</th>\n",
       "      <th>passing_station_IDS</th>\n",
       "      <th>passing_st_names</th>\n",
       "      <th>arrival_times</th>\n",
       "      <th>departure_times</th>\n",
       "    </tr>\n",
       "  </thead>\n",
       "  <tbody>\n",
       "    <tr>\n",
       "      <th>0</th>\n",
       "      <td>12607908707</td>\n",
       "      <td>04700</td>\n",
       "      <td>RE</td>\n",
       "      <td>8014309</td>\n",
       "      <td>8014228</td>\n",
       "      <td>4.47</td>\n",
       "      <td>5.40</td>\n",
       "      <td>[8014309, 8014289, 8014288, 8014283, 8014281, ...</td>\n",
       "      <td>KarlsruheHbf</td>\n",
       "      <td>[00447, 00452, 00456, 00501, 00506, 00513, 005...</td>\n",
       "      <td>[00447, 00453, 00457, 00502, 00507, 00514, 005...</td>\n",
       "    </tr>\n",
       "    <tr>\n",
       "      <th>1</th>\n",
       "      <td>12606485457</td>\n",
       "      <td>04701</td>\n",
       "      <td>RE</td>\n",
       "      <td>8014228</td>\n",
       "      <td>8014309</td>\n",
       "      <td>4.56</td>\n",
       "      <td>5.41</td>\n",
       "      <td>[8014228, 8014241, 8014245, 8014277, 8014281, ...</td>\n",
       "      <td>Offenburg</td>\n",
       "      <td>[00456, 00505, 00509, 00515, 00521, 00526, 005...</td>\n",
       "      <td>[00456, 00505, 00510, 00516, 00522, 00527, 005...</td>\n",
       "    </tr>\n",
       "    <tr>\n",
       "      <th>2</th>\n",
       "      <td>12605476307</td>\n",
       "      <td>04702</td>\n",
       "      <td>RE</td>\n",
       "      <td>8014309</td>\n",
       "      <td>8014228</td>\n",
       "      <td>5.46</td>\n",
       "      <td>6.39</td>\n",
       "      <td>[8014309, 8014289, 8014288, 8014283, 8014281, ...</td>\n",
       "      <td>KarlsruheHbf</td>\n",
       "      <td>[00546, 00550, 00555, 00559, 00604, 00611, 006...</td>\n",
       "      <td>[00546, 00551, 00555, 00600, 00605, 00612, 006...</td>\n",
       "    </tr>\n",
       "    <tr>\n",
       "      <th>3</th>\n",
       "      <td>12611010807</td>\n",
       "      <td>04703</td>\n",
       "      <td>RE</td>\n",
       "      <td>8014521</td>\n",
       "      <td>8014586</td>\n",
       "      <td>5.51</td>\n",
       "      <td>7.25</td>\n",
       "      <td>[8014521, 8014529, 8014533, 8014534, 8014554, ...</td>\n",
       "      <td>Konstanz</td>\n",
       "      <td>[00551, 00601, 00609, 00615, 00632, 00635, 006...</td>\n",
       "      <td>[00551, 00602, 00610, 00619, 00633, 00636, 006...</td>\n",
       "    </tr>\n",
       "    <tr>\n",
       "      <th>4</th>\n",
       "      <td>12610946707</td>\n",
       "      <td>04704</td>\n",
       "      <td>RE</td>\n",
       "      <td>8014521</td>\n",
       "      <td>8014228</td>\n",
       "      <td>5.35</td>\n",
       "      <td>7.50</td>\n",
       "      <td>[8014521, 8014518, 8014513, 8014511, 8014502, ...</td>\n",
       "      <td>KarlsruheHbf</td>\n",
       "      <td>[00535, 00543, 00557, 00611, 00619, 00625, 006...</td>\n",
       "      <td>[00535, 00544, 00558, 00612, 00621, 00626, 006...</td>\n",
       "    </tr>\n",
       "  </tbody>\n",
       "</table>\n",
       "</div>"
      ],
      "text/plain": [
       "   schedule_id route_number transport_type start_station_ID end_station_ID  \\\n",
       "0  12607908707        04700             RE          8014309        8014228   \n",
       "1  12606485457        04701             RE          8014228        8014309   \n",
       "2  12605476307        04702             RE          8014309        8014228   \n",
       "3  12611010807        04703             RE          8014521        8014586   \n",
       "4  12610946707        04704             RE          8014521        8014228   \n",
       "\n",
       "   route_start_time  route_end_time  \\\n",
       "0              4.47            5.40   \n",
       "1              4.56            5.41   \n",
       "2              5.46            6.39   \n",
       "3              5.51            7.25   \n",
       "4              5.35            7.50   \n",
       "\n",
       "                                 passing_station_IDS passing_st_names  \\\n",
       "0  [8014309, 8014289, 8014288, 8014283, 8014281, ...     KarlsruheHbf   \n",
       "1  [8014228, 8014241, 8014245, 8014277, 8014281, ...        Offenburg   \n",
       "2  [8014309, 8014289, 8014288, 8014283, 8014281, ...     KarlsruheHbf   \n",
       "3  [8014521, 8014529, 8014533, 8014534, 8014554, ...         Konstanz   \n",
       "4  [8014521, 8014518, 8014513, 8014511, 8014502, ...     KarlsruheHbf   \n",
       "\n",
       "                                       arrival_times  \\\n",
       "0  [00447, 00452, 00456, 00501, 00506, 00513, 005...   \n",
       "1  [00456, 00505, 00509, 00515, 00521, 00526, 005...   \n",
       "2  [00546, 00550, 00555, 00559, 00604, 00611, 006...   \n",
       "3  [00551, 00601, 00609, 00615, 00632, 00635, 006...   \n",
       "4  [00535, 00543, 00557, 00611, 00619, 00625, 006...   \n",
       "\n",
       "                                     departure_times  \n",
       "0  [00447, 00453, 00457, 00502, 00507, 00514, 005...  \n",
       "1  [00456, 00505, 00510, 00516, 00522, 00527, 005...  \n",
       "2  [00546, 00551, 00555, 00600, 00605, 00612, 006...  \n",
       "3  [00551, 00602, 00610, 00619, 00633, 00636, 006...  \n",
       "4  [00535, 00544, 00558, 00612, 00621, 00626, 006...  "
      ]
     },
     "execution_count": 5,
     "metadata": {},
     "output_type": "execute_result"
    }
   ],
   "source": [
    "# making the dataframe from obtained lists \n",
    "data_dict = {'schedule_id': sch_number, 'route_number': route_number,'transport_type': transport_type,\n",
    "            'start_station_ID': start_st_id,'end_station_ID': end_st_id, 'route_start_time': [time[0] for time in st_arr_times],\n",
    "             'route_end_time': [time[-1] for time in st_dep_times],\n",
    "            'passing_station_IDS': passing_st_ids,\n",
    "            'passing_st_names': passing_st_names, 'arrival_times':st_arr_times, 'departure_times': st_dep_times}\n",
    "data = pd.DataFrame.from_dict(data_dict)\n",
    "# format the date\n",
    "data.route_start_time = abs(data.route_start_time.astype(int)/100)%24\n",
    "data.route_end_time = abs(data.route_end_time.astype(int)/100)%24\n",
    "data.head()"
   ]
  },
  {
   "cell_type": "code",
   "execution_count": 6,
   "metadata": {},
   "outputs": [
    {
     "name": "stdout",
     "output_type": "stream",
     "text": [
      "The number of available schedules until 2020 March 1st for a day in Switzerland: 473233\n"
     ]
    }
   ],
   "source": [
    "print(\"The number of available schedules until 2020 March 1st for a day in Switzerland: {}\".format(data.shape[0]))"
   ]
  },
  {
   "cell_type": "code",
   "execution_count": 7,
   "metadata": {},
   "outputs": [],
   "source": [
    "# map into several transport types \n",
    "trains = ['ICE', 'TGV', 'RJ', 'EC', 'IC', 'IR', 'PE', 'RE','EN', 'S','KB','BP','SN', 'R', 'ARZ', 'EXT', 'NJ', 'IRE','RJX', 'RB', 'CC','TER', 'BN']\n",
    "fun = ['FUN', 'PB', 'SL']\n",
    "metro = ['M']\n",
    "bus = ['B', 'CAR', 'EXB','RUB']\n",
    "ship = ['BAT', 'FAE']\n",
    "tram = ['T', 'TE2']\n",
    "gondola = ['GB', 'ASC']\n",
    "\n",
    "data['transport_type'][data.transport_type.isin(trains)] = 'train'\n",
    "data['transport_type'][data.transport_type.isin(fun)] = 'fun'\n",
    "data['transport_type'][data.transport_type.isin(metro)] = 'metro'\n",
    "data['transport_type'][data.transport_type.isin(bus)] = 'bus'\n",
    "data['transport_type'][data.transport_type.isin(ship)] = 'ship'\n",
    "data['transport_type'][data.transport_type.isin(tram)] = 'tram'\n",
    "data['transport_type'][data.transport_type.isin(gondola)] = 'gondola'"
   ]
  },
  {
   "cell_type": "code",
   "execution_count": 8,
   "metadata": {},
   "outputs": [],
   "source": [
    "tr_type = data.groupby(['transport_type']).size().reset_index(name='number_of_schedules')"
   ]
  },
  {
   "cell_type": "code",
   "execution_count": 9,
   "metadata": {},
   "outputs": [
    {
     "data": {
      "image/png": "[encoded data removed]",
      "text/plain": [
       "<Figure size 432x648 with 1 Axes>"
      ]
     },
     "metadata": {},
     "output_type": "display_data"
    }
   ],
   "source": [
    "plt.figure(figsize=(6,9)) \n",
    "name_list = tr_type.transport_type\n",
    "num_list = tr_type.number_of_schedules\n",
    "labels = name_list \n",
    "sizes = num_list \n",
    "colors = ['red','yellowgreen','lightskyblue','yellow',\"blue\",\"orange\",\"pink\"] \n",
    "explode = (0,0,0,0,0,0,0) \n",
    "patches,text1,text2 = plt.pie(sizes,\n",
    "                      explode=explode,\n",
    "                      labels=labels,\n",
    "                      colors=colors,\n",
    "                      autopct = '%3.2f%%', \n",
    "                      shadow = True, \n",
    "                      startangle =90, \n",
    "                      pctdistance = 0.6) \n",
    "plt.axis('equal')\n",
    "plt.title('The transportation type shares')\n",
    "plt.show()"
   ]
  },
  {
   "cell_type": "markdown",
   "metadata": {},
   "source": [
    "## Prepare data for Time Radial Histogram"
   ]
  },
  {
   "cell_type": "code",
   "execution_count": 10,
   "metadata": {},
   "outputs": [
    {
     "name": "stdout",
     "output_type": "stream",
     "text": [
      "The number of not-duplicated available schedules until 2020 March 1st for a day in Switzerland: 473233\n"
     ]
    }
   ],
   "source": [
    "time_data = data[[\"route_number\", \"transport_type\", \"route_start_time\", \"route_end_time\"]]\n",
    "print(\"The number of not-duplicated available schedules until 2020 March 1st for a day in Switzerland: {}\".format(time_data.shape[0]))"
   ]
  },
  {
   "cell_type": "code",
   "execution_count": 11,
   "metadata": {},
   "outputs": [],
   "source": [
    "def round_hour(hour, how_to = 'hourly'):\n",
    "    int_hour = int(hour)\n",
    "    mins = hour - int_hour\n",
    "    if how_to == 'hourly':\n",
    "        return int_hour\n",
    "    if how_to == 'half_hourly':\n",
    "        return round(int_hour + (0.3 if mins >= 0.3 else 0), 2)\n",
    "    if how_to == 'quarter_hourly':\n",
    "        return round(int_hour + (0.15 if mins >= 0.15 else 0) + (0.15 if mins >= 0.3 else 0)+ (0.15 if mins >= 0.45 else 0),2)"
   ]
  },
  {
   "cell_type": "code",
   "execution_count": 13,
   "metadata": {},
   "outputs": [],
   "source": [
    "time_data['start_hourly'] = time_data.apply(lambda x: round_hour(x.route_start_time, 'hourly'), axis=1)\n",
    "time_data['start_half_hourly'] = time_data.apply(lambda x: round_hour(x.route_start_time, 'half_hourly'), axis=1)\n",
    "time_data['start_quarter_hourly'] = time_data.apply(lambda x: round_hour(x.route_start_time, 'quarter_hourly'), axis=1)\n",
    "\n",
    "time_data['end_hourly'] = time_data.apply(lambda x: round_hour(x.route_end_time, 'hourly'), axis=1)\n",
    "time_data['end_half_hourly'] = time_data.apply(lambda x: round_hour(x.route_end_time, 'half_hourly'), axis=1)\n",
    "time_data['end_quarter_hourly'] = time_data.apply(lambda x: round_hour(x.route_end_time, 'quarter_hourly'), axis=1)"
   ]
  },
  {
   "cell_type": "code",
   "execution_count": 14,
   "metadata": {},
   "outputs": [],
   "source": [
    "def get_data(time_var = 'hourly'):\n",
    "    s = time_data.groupby(['start_{}'.format(time_var)]).size().reset_index(name = 'starting')\n",
    "    e = time_data.groupby(['end_{}'.format(time_var)]).size().reset_index(name = 'ending')\n",
    "    t_data = pd.merge(s, e, how='left', left_on= 'start_{}'.format(time_var), right_on = 'end_{}'.format(time_var))[['start_{}'.format(time_var), 'starting', 'ending']]\n",
    "    t_data.rename(columns={'start_{}'.format(time_var): 'time'}, inplace=True)\n",
    "    return t_data"
   ]
  },
  {
   "cell_type": "code",
   "execution_count": 15,
   "metadata": {},
   "outputs": [],
   "source": [
    "get_data(time_var = 'hourly').to_csv(DATAFOLDER +'/data_figures/hourly_start_end.csv', index=False)\n",
    "get_data(time_var = 'half_hourly').to_csv(DATAFOLDER +'/data_figures/half_hourly_start_end.csv', index=False)\n",
    "get_data(time_var = 'quarter_hourly').to_csv(DATAFOLDER +'/data_figures/quarter_hourly_start_end.csv', index=False)"
   ]
  },
  {
   "cell_type": "code",
   "execution_count": 16,
   "metadata": {},
   "outputs": [],
   "source": [
    "example = get_data(time_var = 'half_hourly')"
   ]
  },
  {
   "cell_type": "code",
   "execution_count": 17,
   "metadata": {},
   "outputs": [
    {
     "data": {
      "image/png": "[encoded data removed]",
      "text/plain": [
       "<Figure size 2160x1080 with 1 Axes>"
      ]
     },
     "metadata": {
      "needs_background": "light"
     },
     "output_type": "display_data"
    }
   ],
   "source": [
    "#plot an example\n",
    "time=example.time.tolist()\n",
    "classs=['Start','End']\n",
    "pos = np.arange(example.shape[0])\n",
    "starting_number=example.starting.tolist()\n",
    "ending_number=example.ending.tolist()\n",
    " \n",
    "plt.rcParams[\"figure.figsize\"] = (30,15)\n",
    "\n",
    "plt.bar(pos,starting_number,color='blue',edgecolor='black')\n",
    "plt.bar(pos,ending_number,color='pink',edgecolor='black',bottom=starting_number)\n",
    "plt.xticks(pos, time)\n",
    "plt.xlabel('time', fontsize=16)\n",
    "plt.ylabel('Number of transports', fontsize=16)\n",
    "plt.title('Stacked Barchart - Number of transports at given Half hour',fontsize=18)\n",
    "plt.legend(classs,loc=2)\n",
    "plt.show()"
   ]
  },
  {
   "cell_type": "code",
   "execution_count": 18,
   "metadata": {},
   "outputs": [],
   "source": [
    "with open(DATAFOLDER + \"/2020_03_01/BFKOORD_GEO\") as stations:\n",
    "    text = stations.read()\n",
    "result = text.split('\\n')\n",
    "st_id, lat, longt, number, name = ([] for i in range(5))\n",
    "for i in range(len(result) - 1):\n",
    "    each = result[i].split()\n",
    "    st_id.append(each[0])\n",
    "    longt.append(each[1])\n",
    "    lat.append(each[2])\n",
    "    number.append(each[3])\n",
    "    name.append(' '.join(each[5:])) \n",
    "station_info = {'station_id': st_id, 'latitude': lat,'longitude': longt\n",
    "               ,'number': number,'station_name': name}\n",
    "stations = pd.DataFrame.from_dict(station_info)\n",
    "\n",
    "stations.latitude= stations.latitude.astype(float)\n",
    "stations.longitude= stations.longitude.astype(float)\n",
    "\n",
    "with open(DATAFOLDER + '/dd_geojson_switzerland.json') as f:\n",
    "    js = json.load(f)\n",
    "    \n",
    "# construct point based on lon/lat returned by geocoder\n",
    "def get_canton(js, lat, long):\n",
    "    point = Point(long, lat)\n",
    "   # check each polygon to see if it contains the point\n",
    "    for feature in js['features']:\n",
    "        polygon = shape(feature['geometry'])\n",
    "        if polygon.contains(point):\n",
    "            return feature['properties']['name']\n",
    "    return 'not in switzerland'\n",
    "stations['canton'] = stations.apply(lambda row: get_canton(js, row.latitude, row.longitude), axis = 1)\n",
    "suisse_stations = stations[stations.canton != 'not in switzerland']"
   ]
  },
  {
   "cell_type": "markdown",
   "metadata": {},
   "source": [
    "## Prepare the data for Edge bundling"
   ]
  },
  {
   "cell_type": "code",
   "execution_count": 25,
   "metadata": {},
   "outputs": [
    {
     "name": "stdout",
     "output_type": "stream",
     "text": [
      "The data contains passenger capacity information for 906 stations in Switzerland.\n"
     ]
    },
    {
     "data": {
      "text/html": [
       "<div>\n",
       "<style scoped>\n",
       "    .dataframe tbody tr th:only-of-type {\n",
       "        vertical-align: middle;\n",
       "    }\n",
       "\n",
       "    .dataframe tbody tr th {\n",
       "        vertical-align: top;\n",
       "    }\n",
       "\n",
       "    .dataframe thead th {\n",
       "        text-align: right;\n",
       "    }\n",
       "</style>\n",
       "<table border=\"1\" class=\"dataframe\">\n",
       "  <thead>\n",
       "    <tr style=\"text-align: right;\">\n",
       "      <th></th>\n",
       "      <th>Code</th>\n",
       "      <th>Bahnhof_Haltestelle</th>\n",
       "      <th>Kanton</th>\n",
       "      <th>Eigner</th>\n",
       "      <th>DTV_2018</th>\n",
       "      <th>DWV_2018</th>\n",
       "      <th>DNWV_2018</th>\n",
       "      <th>Bemerkungen</th>\n",
       "      <th>Remarques</th>\n",
       "      <th>Note</th>\n",
       "      <th>Remarks</th>\n",
       "    </tr>\n",
       "  </thead>\n",
       "  <tbody>\n",
       "    <tr>\n",
       "      <th>0</th>\n",
       "      <td>AA</td>\n",
       "      <td>Aarau</td>\n",
       "      <td>AG</td>\n",
       "      <td>SBB</td>\n",
       "      <td>37900</td>\n",
       "      <td>44800</td>\n",
       "      <td>22700</td>\n",
       "      <td>Ohne AVA.</td>\n",
       "      <td>Sans AVA.</td>\n",
       "      <td>Senza AVA.</td>\n",
       "      <td>Without AVA.</td>\n",
       "    </tr>\n",
       "    <tr>\n",
       "      <th>1</th>\n",
       "      <td>AAT</td>\n",
       "      <td>Aathal</td>\n",
       "      <td>ZH</td>\n",
       "      <td>SBB</td>\n",
       "      <td>740</td>\n",
       "      <td>800</td>\n",
       "      <td>610</td>\n",
       "      <td>NaN</td>\n",
       "      <td>NaN</td>\n",
       "      <td>NaN</td>\n",
       "      <td>NaN</td>\n",
       "    </tr>\n",
       "    <tr>\n",
       "      <th>2</th>\n",
       "      <td>ABO</td>\n",
       "      <td>Aarburg-Oftringen</td>\n",
       "      <td>AG</td>\n",
       "      <td>SBB</td>\n",
       "      <td>2500</td>\n",
       "      <td>3000</td>\n",
       "      <td>1300</td>\n",
       "      <td>NaN</td>\n",
       "      <td>NaN</td>\n",
       "      <td>NaN</td>\n",
       "      <td>NaN</td>\n",
       "    </tr>\n",
       "    <tr>\n",
       "      <th>3</th>\n",
       "      <td>ACLA</td>\n",
       "      <td>Acla da Fontauna</td>\n",
       "      <td>GR</td>\n",
       "      <td>MGB</td>\n",
       "      <td>90</td>\n",
       "      <td>90</td>\n",
       "      <td>80</td>\n",
       "      <td>NaN</td>\n",
       "      <td>NaN</td>\n",
       "      <td>NaN</td>\n",
       "      <td>NaN</td>\n",
       "    </tr>\n",
       "    <tr>\n",
       "      <th>4</th>\n",
       "      <td>AD</td>\n",
       "      <td>Aadorf</td>\n",
       "      <td>TG</td>\n",
       "      <td>SBB</td>\n",
       "      <td>1700</td>\n",
       "      <td>2000</td>\n",
       "      <td>1000</td>\n",
       "      <td>Durchschnittswert 2018 durch Streckensperrung ...</td>\n",
       "      <td>Valeur moyenne 2018 à la baisse en raison de l...</td>\n",
       "      <td>Valore medio 2018 compromesso dallo sbarrament...</td>\n",
       "      <td>Average value for 2018 impacted by line closure.</td>\n",
       "    </tr>\n",
       "  </tbody>\n",
       "</table>\n",
       "</div>"
      ],
      "text/plain": [
       "   Code Bahnhof_Haltestelle Kanton Eigner DTV_2018 DWV_2018 DNWV_2018  \\\n",
       "0    AA               Aarau     AG    SBB    37900    44800     22700   \n",
       "1   AAT              Aathal     ZH    SBB      740      800       610   \n",
       "2   ABO   Aarburg-Oftringen     AG    SBB     2500     3000      1300   \n",
       "3  ACLA    Acla da Fontauna     GR    MGB       90       90        80   \n",
       "4    AD              Aadorf     TG    SBB     1700     2000      1000   \n",
       "\n",
       "                                         Bemerkungen  \\\n",
       "0                                          Ohne AVA.   \n",
       "1                                                NaN   \n",
       "2                                                NaN   \n",
       "3                                                NaN   \n",
       "4  Durchschnittswert 2018 durch Streckensperrung ...   \n",
       "\n",
       "                                           Remarques  \\\n",
       "0                                          Sans AVA.   \n",
       "1                                                NaN   \n",
       "2                                                NaN   \n",
       "3                                                NaN   \n",
       "4  Valeur moyenne 2018 à la baisse en raison de l...   \n",
       "\n",
       "                                                Note  \\\n",
       "0                                         Senza AVA.   \n",
       "1                                                NaN   \n",
       "2                                                NaN   \n",
       "3                                                NaN   \n",
       "4  Valore medio 2018 compromesso dallo sbarrament...   \n",
       "\n",
       "                                            Remarks  \n",
       "0                                      Without AVA.  \n",
       "1                                               NaN  \n",
       "2                                               NaN  \n",
       "3                                               NaN  \n",
       "4  Average value for 2018 impacted by line closure.  "
      ]
     },
     "execution_count": 25,
     "metadata": {},
     "output_type": "execute_result"
    }
   ],
   "source": [
    "df = pd.read_excel(DATAFOLDER +'/passengers2018.xlsx')\n",
    "\n",
    "# get the size of the data set\n",
    "print(\"The data contains passenger capacity information for {} stations in Switzerland.\".format(df.shape[0]))\n",
    "# get some sample of the data\n",
    "df.head()"
   ]
  },
  {
   "cell_type": "code",
   "execution_count": 29,
   "metadata": {},
   "outputs": [],
   "source": [
    "df_p = df.fillna(value=0)\n",
    "df_p = df_p.rename(columns = {'Code':'station_code','Bahnhof_Haltestelle':'station_name', 'Kanton':'canton','DNWV_2018': 'capacity'})\n",
    "big_stations = df_p[['station_code', 'station_name', 'canton', 'capacity']]\n",
    "\n",
    "big_stations['capacity'] = big_stations['capacity'].replace('<50','49')\n",
    "#change the type of value in the data set\n",
    "big_stations['capacity'] = big_stations['capacity'].astype('int')"
   ]
  },
  {
   "cell_type": "code",
   "execution_count": 30,
   "metadata": {},
   "outputs": [
    {
     "data": {
      "text/html": [
       "<div>\n",
       "<style scoped>\n",
       "    .dataframe tbody tr th:only-of-type {\n",
       "        vertical-align: middle;\n",
       "    }\n",
       "\n",
       "    .dataframe tbody tr th {\n",
       "        vertical-align: top;\n",
       "    }\n",
       "\n",
       "    .dataframe thead th {\n",
       "        text-align: right;\n",
       "    }\n",
       "</style>\n",
       "<table border=\"1\" class=\"dataframe\">\n",
       "  <thead>\n",
       "    <tr style=\"text-align: right;\">\n",
       "      <th></th>\n",
       "      <th>station_code</th>\n",
       "      <th>station_name</th>\n",
       "      <th>canton</th>\n",
       "      <th>capacity</th>\n",
       "    </tr>\n",
       "  </thead>\n",
       "  <tbody>\n",
       "    <tr>\n",
       "      <th>0</th>\n",
       "      <td>AA</td>\n",
       "      <td>Aarau</td>\n",
       "      <td>AG</td>\n",
       "      <td>22700</td>\n",
       "    </tr>\n",
       "    <tr>\n",
       "      <th>1</th>\n",
       "      <td>AAT</td>\n",
       "      <td>Aathal</td>\n",
       "      <td>ZH</td>\n",
       "      <td>610</td>\n",
       "    </tr>\n",
       "    <tr>\n",
       "      <th>2</th>\n",
       "      <td>ABO</td>\n",
       "      <td>Aarburg-Oftringen</td>\n",
       "      <td>AG</td>\n",
       "      <td>1300</td>\n",
       "    </tr>\n",
       "    <tr>\n",
       "      <th>3</th>\n",
       "      <td>ACLA</td>\n",
       "      <td>Acla da Fontauna</td>\n",
       "      <td>GR</td>\n",
       "      <td>80</td>\n",
       "    </tr>\n",
       "    <tr>\n",
       "      <th>4</th>\n",
       "      <td>AD</td>\n",
       "      <td>Aadorf</td>\n",
       "      <td>TG</td>\n",
       "      <td>1000</td>\n",
       "    </tr>\n",
       "  </tbody>\n",
       "</table>\n",
       "</div>"
      ],
      "text/plain": [
       "  station_code       station_name canton  capacity\n",
       "0           AA              Aarau     AG     22700\n",
       "1          AAT             Aathal     ZH       610\n",
       "2          ABO  Aarburg-Oftringen     AG      1300\n",
       "3         ACLA   Acla da Fontauna     GR        80\n",
       "4           AD             Aadorf     TG      1000"
      ]
     },
     "execution_count": 30,
     "metadata": {},
     "output_type": "execute_result"
    }
   ],
   "source": [
    "big_stations.head()"
   ]
  },
  {
   "cell_type": "code",
   "execution_count": 31,
   "metadata": {},
   "outputs": [],
   "source": [
    "big_stations = big_stations.sort_values('capacity', ascending = False).head(300)[['station_code', 'station_name', 'canton']]"
   ]
  },
  {
   "cell_type": "code",
   "execution_count": 32,
   "metadata": {},
   "outputs": [
    {
     "data": {
      "text/html": [
       "<div>\n",
       "<style scoped>\n",
       "    .dataframe tbody tr th:only-of-type {\n",
       "        vertical-align: middle;\n",
       "    }\n",
       "\n",
       "    .dataframe tbody tr th {\n",
       "        vertical-align: top;\n",
       "    }\n",
       "\n",
       "    .dataframe thead th {\n",
       "        text-align: right;\n",
       "    }\n",
       "</style>\n",
       "<table border=\"1\" class=\"dataframe\">\n",
       "  <thead>\n",
       "    <tr style=\"text-align: right;\">\n",
       "      <th></th>\n",
       "      <th>station_code</th>\n",
       "      <th>station_name</th>\n",
       "      <th>canton</th>\n",
       "    </tr>\n",
       "  </thead>\n",
       "  <tbody>\n",
       "    <tr>\n",
       "      <th>898</th>\n",
       "      <td>ZUE</td>\n",
       "      <td>Zürich HB</td>\n",
       "      <td>ZH</td>\n",
       "    </tr>\n",
       "    <tr>\n",
       "      <th>79</th>\n",
       "      <td>BN</td>\n",
       "      <td>Bern</td>\n",
       "      <td>BE</td>\n",
       "    </tr>\n",
       "    <tr>\n",
       "      <th>462</th>\n",
       "      <td>LZ</td>\n",
       "      <td>Luzern</td>\n",
       "      <td>LU</td>\n",
       "    </tr>\n",
       "    <tr>\n",
       "      <th>105</th>\n",
       "      <td>BS</td>\n",
       "      <td>Basel SBB</td>\n",
       "      <td>BS</td>\n",
       "    </tr>\n",
       "    <tr>\n",
       "      <th>836</th>\n",
       "      <td>W</td>\n",
       "      <td>Winterthur</td>\n",
       "      <td>ZH</td>\n",
       "    </tr>\n",
       "  </tbody>\n",
       "</table>\n",
       "</div>"
      ],
      "text/plain": [
       "    station_code station_name canton\n",
       "898          ZUE    Zürich HB     ZH\n",
       "79            BN         Bern     BE\n",
       "462           LZ       Luzern     LU\n",
       "105           BS    Basel SBB     BS\n",
       "836            W   Winterthur     ZH"
      ]
     },
     "execution_count": 32,
     "metadata": {},
     "output_type": "execute_result"
    }
   ],
   "source": [
    "s.head()"
   ]
  },
  {
   "cell_type": "code",
   "execution_count": 33,
   "metadata": {},
   "outputs": [
    {
     "data": {
      "text/html": [
       "<div>\n",
       "<style scoped>\n",
       "    .dataframe tbody tr th:only-of-type {\n",
       "        vertical-align: middle;\n",
       "    }\n",
       "\n",
       "    .dataframe tbody tr th {\n",
       "        vertical-align: top;\n",
       "    }\n",
       "\n",
       "    .dataframe thead th {\n",
       "        text-align: right;\n",
       "    }\n",
       "</style>\n",
       "<table border=\"1\" class=\"dataframe\">\n",
       "  <thead>\n",
       "    <tr style=\"text-align: right;\">\n",
       "      <th></th>\n",
       "      <th>station_id</th>\n",
       "      <th>latitude</th>\n",
       "      <th>longitude</th>\n",
       "      <th>number</th>\n",
       "      <th>station_name</th>\n",
       "      <th>canton</th>\n",
       "    </tr>\n",
       "  </thead>\n",
       "  <tbody>\n",
       "    <tr>\n",
       "      <th>6</th>\n",
       "      <td>0000011</td>\n",
       "      <td>47.191698</td>\n",
       "      <td>7.389618</td>\n",
       "      <td>466</td>\n",
       "      <td>Grenchen</td>\n",
       "      <td>Solothurn</td>\n",
       "    </tr>\n",
       "    <tr>\n",
       "      <th>10</th>\n",
       "      <td>0000022</td>\n",
       "      <td>47.547412</td>\n",
       "      <td>7.589562</td>\n",
       "      <td>276</td>\n",
       "      <td>Basel</td>\n",
       "      <td>Basel-Stadt</td>\n",
       "    </tr>\n",
       "    <tr>\n",
       "      <th>11</th>\n",
       "      <td>0000024</td>\n",
       "      <td>46.937487</td>\n",
       "      <td>7.395237</td>\n",
       "      <td>561</td>\n",
       "      <td>Bern Bümpliz</td>\n",
       "      <td>Bern/Berne</td>\n",
       "    </tr>\n",
       "    <tr>\n",
       "      <th>24</th>\n",
       "      <td>0000059</td>\n",
       "      <td>47.659615</td>\n",
       "      <td>9.132979</td>\n",
       "      <td>403</td>\n",
       "      <td>Tägerwilen</td>\n",
       "      <td>Thurgau</td>\n",
       "    </tr>\n",
       "    <tr>\n",
       "      <th>29</th>\n",
       "      <td>0000085</td>\n",
       "      <td>47.018942</td>\n",
       "      <td>7.498927</td>\n",
       "      <td>527</td>\n",
       "      <td>Schönbühl</td>\n",
       "      <td>Bern/Berne</td>\n",
       "    </tr>\n",
       "  </tbody>\n",
       "</table>\n",
       "</div>"
      ],
      "text/plain": [
       "   station_id   latitude  longitude number  station_name       canton\n",
       "6     0000011  47.191698   7.389618    466      Grenchen    Solothurn\n",
       "10    0000022  47.547412   7.589562    276         Basel  Basel-Stadt\n",
       "11    0000024  46.937487   7.395237    561  Bern Bümpliz   Bern/Berne\n",
       "24    0000059  47.659615   9.132979    403    Tägerwilen      Thurgau\n",
       "29    0000085  47.018942   7.498927    527     Schönbühl   Bern/Berne"
      ]
     },
     "execution_count": 33,
     "metadata": {},
     "output_type": "execute_result"
    }
   ],
   "source": [
    "suisse_stations.head()"
   ]
  },
  {
   "cell_type": "code",
   "execution_count": 34,
   "metadata": {},
   "outputs": [],
   "source": [
    "stations1 = pd.merge(big_stations, suisse_stations, how = \"inner\", on = 'station_name')\n",
    "stations1 = stations1[[\"station_code\",\"station_name\",\"canton_x\",\"latitude\",\"longitude\"]]"
   ]
  },
  {
   "cell_type": "code",
   "execution_count": null,
   "metadata": {},
   "outputs": [],
   "source": [
    "def create_links(passing_st_ids):\n",
    "    \"\"\"Create the dict of links with frequency values\"\"\"\n",
    "    links = []\n",
    "    info = {}\n",
    "    for i in range(len(passing_st_ids)):\n",
    "        sorted_ids = sorted(passing_st_ids[i]) \n",
    "        for j in range(len(sorted_ids)):\n",
    "            for k in range(j+1, len(sorted_ids)):\n",
    "                info = {}\n",
    "                info['source'] = sorted_ids[j]\n",
    "                info['target'] = sorted_ids[k]\n",
    "                info['value'] = 1\n",
    "                links.append(info)\n",
    "    return links\n",
    "#links = create_links(passing_st_ids)\n",
    "#a = pd.DataFrame.from_dict(links)\n",
    "#d = a.groupby(['source','target'])['value'].sum().reset_index()"
   ]
  },
  {
   "cell_type": "code",
   "execution_count": 35,
   "metadata": {},
   "outputs": [],
   "source": [
    "links = pd.read_csv(DATAFOLDER + '/data_figures/links.csv')"
   ]
  },
  {
   "cell_type": "code",
   "execution_count": 36,
   "metadata": {},
   "outputs": [],
   "source": [
    "nodes = pd.merge(big_stations, stations, how='inner', left_on = 'station_name', right_on = 'station_name')\n",
    "nodes = nodes[['station_code','canton_x', 'station_id']]\n",
    "nodes.station_id = nodes.station_id.astype(int)"
   ]
  },
  {
   "cell_type": "code",
   "execution_count": 37,
   "metadata": {},
   "outputs": [],
   "source": [
    "a = pd.merge(links, nodes, how ='inner', left_on = 'source', right_on = 'station_id')[['station_code','source','target', 'value' ]]\n",
    "b = pd.merge(a,nodes, how ='inner', left_on = 'target', right_on = 'station_id' )"
   ]
  },
  {
   "cell_type": "code",
   "execution_count": 38,
   "metadata": {},
   "outputs": [],
   "source": [
    "trips = b[['station_code_x','station_code_y','value']]\n",
    "trips.rename(columns={'station_code_x': 'origin', 'station_code_y': 'destination', 'value':'count'}, inplace=True)\n",
    "stations1.rename(columns={'station_code': 'code', 'station_name': 'name', 'canton_x': 'canton'}, inplace=True)\n",
    "stations1.to_csv(DATAFOLDER +'/data_figures/stations.csv', index=False)\n",
    "trips.to_csv(DATAFOLDER +'/data_figures/trips.csv', index = False)"
   ]
  },
  {
   "cell_type": "markdown",
   "metadata": {},
   "source": [
    "## Data for Stations capacity\n",
    "\n",
    "Data souce from https://opentransportdata.swiss/en/dataset/timetable-2020-gtfs/resource/559278ea-fd2a-4d93-a462-f9c6d7b69dae"
   ]
  },
  {
   "cell_type": "code",
   "execution_count": 39,
   "metadata": {},
   "outputs": [],
   "source": [
    "routes =  pd.read_csv('data/gtfs_new_dataset/routes.txt')\n",
    "trips = pd.read_csv('data/gtfs_new_dataset/trips.txt')\n",
    "stop_times = pd.read_csv('data/gtfs_new_dataset/stop_times.txt')\n",
    "shapes = pd.read_csv('data/gtfs_new_dataset/shapes.txt')\n",
    "agency = pd.read_csv('data/gtfs_new_dataset/agency.txt')"
   ]
  },
  {
   "cell_type": "code",
   "execution_count": 41,
   "metadata": {},
   "outputs": [],
   "source": [
    "routes = routes[['route_id','route_desc','route_type']]\n",
    "trips = trips[['route_id', 'trip_id', 'trip_headsign']]\n",
    "stop_times = stop_times[['trip_id','arrival_time','stop_id']]"
   ]
  },
  {
   "cell_type": "code",
   "execution_count": 42,
   "metadata": {},
   "outputs": [],
   "source": [
    "stops_trips = pd.merge(stop_times, trips, on = 'trip_id')\n",
    "stops_trips_routes = pd.merge(stops_trips, routes, on = 'route_id')"
   ]
  },
  {
   "cell_type": "code",
   "execution_count": 43,
   "metadata": {},
   "outputs": [],
   "source": [
    "d = stops_trips_routes[['stop_id', 'arrival_time', 'route_type']]"
   ]
  },
  {
   "cell_type": "code",
   "execution_count": 44,
   "metadata": {},
   "outputs": [],
   "source": [
    "d.stop_id = d.stop_id.str.split(':').str[0]"
   ]
  },
  {
   "cell_type": "code",
   "execution_count": 45,
   "metadata": {},
   "outputs": [],
   "source": [
    "st = pd.merge(d, suisse_stations, how = 'inner', left_on='stop_id', right_on='station_id')"
   ]
  },
  {
   "cell_type": "code",
   "execution_count": 46,
   "metadata": {},
   "outputs": [],
   "source": [
    "data = st[['station_id','station_name', 'longitude','latitude', 'route_type', 'arrival_time']]"
   ]
  },
  {
   "cell_type": "code",
   "execution_count": 47,
   "metadata": {},
   "outputs": [],
   "source": [
    "time = data.arrival_time.str.split(':')\n",
    "data['hour'] = ((time.str[0].astype(int))%24).astype(str)\n",
    "#a = time.str[1].astype(int)\n",
    "data['minute'] = '00'\n",
    "data['arrival_time'] = data[['hour', 'minute']].apply(lambda x: ':'.join(x), axis=1)"
   ]
  },
  {
   "cell_type": "code",
   "execution_count": 48,
   "metadata": {},
   "outputs": [],
   "source": [
    "data = data.groupby(['station_id','station_name', 'longitude','latitude','route_type','arrival_time','hour','minute']).size().reset_index(name='number_of_transport')"
   ]
  },
  {
   "cell_type": "code",
   "execution_count": 49,
   "metadata": {},
   "outputs": [],
   "source": [
    "data['route_type'] = data['route_type'].replace(0,'tram')\n",
    "data['route_type'] = data['route_type'].replace(1,'bus')\n",
    "data['route_type'] = data['route_type'].replace(2,'train')\n",
    "data['route_type'] = data['route_type'].replace(3,'train')\n",
    "data['route_type'] = data['route_type'].replace(4,'subway')\n",
    "data['route_type'] = data['route_type'].replace(5,'ferry')\n",
    "data['route_type'] = data['route_type'].replace(6,'funicular')\n",
    "data['route_type'] = data['route_type'].replace(7,'gondola')"
   ]
  },
  {
   "cell_type": "code",
   "execution_count": 50,
   "metadata": {},
   "outputs": [],
   "source": [
    "data[data.route_type != 'bus'].to_csv(DATAFOLDER + \"/data_figures/station_capacity_no_bus.csv\", index=False)"
   ]
  },
  {
   "cell_type": "code",
   "execution_count": null,
   "metadata": {},
   "outputs": [],
   "source": []
  }
 ],
 "metadata": {
  "kernelspec": {
   "display_name": "Python 3",
   "language": "python",
   "name": "python3"
  },
  "language_info": {
   "codemirror_mode": {
    "name": "ipython",
    "version": 3
   },
   "file_extension": ".py",
   "mimetype": "text/x-python",
   "name": "python",
   "nbconvert_exporter": "python",
   "pygments_lexer": "ipython3",
   "version": "3.6.8"
  },
  "toc": {
   "nav_menu": {},
   "number_sections": true,
   "sideBar": true,
   "skip_h1_title": false,
   "toc_cell": true,
   "toc_position": {},
   "toc_section_display": "block",
   "toc_window_display": false
  }
 },
 "nbformat": 4,
 "nbformat_minor": 2
}
