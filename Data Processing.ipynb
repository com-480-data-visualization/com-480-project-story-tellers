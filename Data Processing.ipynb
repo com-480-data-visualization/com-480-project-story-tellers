{
 "cells": [
  {
   "cell_type": "markdown",
   "metadata": {
    "toc": true
   },
   "source": [
    "## Data processing for statistical figures "
   ]
  },
  {
   "cell_type": "code",
   "execution_count": 39,
   "metadata": {},
   "outputs": [],
   "source": [
    "# imports\n",
    "import warnings\n",
    "import numpy as np\n",
    "import pandas as pd\n",
    "import matplotlib.pyplot as plt\n",
    "import json\n",
    "from shapely.geometry import shape, Point\n",
    "\n",
    "\n",
    "DATAFOLDER = 'data'\n",
    "warnings.filterwarnings(\"ignore\")"
   ]
  },
  {
   "cell_type": "code",
   "execution_count": 4,
   "metadata": {},
   "outputs": [],
   "source": [
    "# read the .txt file and split the schedules by the separator '*Z '\n",
    "with open(DATAFOLDER + \"/2020_03_01/FPLAN\") as schedules:\n",
    "    text = schedules.read()\n",
    "result = text.split('*Z ')"
   ]
  },
  {
   "cell_type": "code",
   "execution_count": 5,
   "metadata": {},
   "outputs": [],
   "source": [
    "def int_list_time(a):\n",
    "    l = []\n",
    "    name = ''\n",
    "    for i in a:\n",
    "        if i.lstrip(\"-\").isdigit():\n",
    "            if len(i) == 5 or len(i) ==6:\n",
    "                l.append(i)\n",
    "        else:\n",
    "            name += i\n",
    "    return l, name           "
   ]
  },
  {
   "cell_type": "code",
   "execution_count": 6,
   "metadata": {},
   "outputs": [],
   "source": [
    "# format the .txt file results\n",
    "sch_number, route_number, transport_type, start_st_id, end_st_id, passing_st_ids, passing_st_names, st_arr_times, st_dep_times = ([] for i in range(9))\n",
    "for i in result[1:]:    \n",
    "    a = i.split('*')\n",
    "    # get the identical information about schedule \n",
    "    schedule_id = a[0].split()\n",
    "    route_number.append(schedule_id[0])\n",
    "    sch_number.append(schedule_id[-2])\n",
    "    # get the identical information about route \n",
    "    route_info = a[1].split()\n",
    "    transport_type.append(route_info[1])\n",
    "    start_st_id.append(route_info[2])\n",
    "    end_st_id.append(route_info[3])\n",
    "    st_id, station_name, arr_time, dep_time = ([] for i in range(4))\n",
    "    # the route detail\n",
    "    overall_sch = a[-1].split('%\\n')[1:-1]\n",
    "    for j in overall_sch:\n",
    "        route = j.strip().split()\n",
    "        st_id.append(route[0])\n",
    "        time, station_name = int_list_time(route)\n",
    "        arr_time.append(time[0])\n",
    "        dep_time.append(time[-1])\n",
    "    passing_st_ids.append(st_id)\n",
    "    passing_st_names.append(station_name)\n",
    "    st_arr_times.append(arr_time)\n",
    "    st_dep_times.append(dep_time)"
   ]
  },
  {
   "cell_type": "code",
   "execution_count": 7,
   "metadata": {
    "scrolled": true
   },
   "outputs": [
    {
     "data": {
      "text/html": [
       "<div>\n",
       "<style scoped>\n",
       "    .dataframe tbody tr th:only-of-type {\n",
       "        vertical-align: middle;\n",
       "    }\n",
       "\n",
       "    .dataframe tbody tr th {\n",
       "        vertical-align: top;\n",
       "    }\n",
       "\n",
       "    .dataframe thead th {\n",
       "        text-align: right;\n",
       "    }\n",
       "</style>\n",
       "<table border=\"1\" class=\"dataframe\">\n",
       "  <thead>\n",
       "    <tr style=\"text-align: right;\">\n",
       "      <th></th>\n",
       "      <th>schedule_id</th>\n",
       "      <th>route_number</th>\n",
       "      <th>transport_type</th>\n",
       "      <th>start_station_ID</th>\n",
       "      <th>end_station_ID</th>\n",
       "      <th>route_start_time</th>\n",
       "      <th>route_end_time</th>\n",
       "      <th>passing_station_IDS</th>\n",
       "      <th>passing_st_names</th>\n",
       "      <th>arrival_times</th>\n",
       "      <th>departure_times</th>\n",
       "    </tr>\n",
       "  </thead>\n",
       "  <tbody>\n",
       "    <tr>\n",
       "      <th>0</th>\n",
       "      <td>12607908707</td>\n",
       "      <td>04700</td>\n",
       "      <td>RE</td>\n",
       "      <td>8014309</td>\n",
       "      <td>8014228</td>\n",
       "      <td>00447</td>\n",
       "      <td>00540</td>\n",
       "      <td>[8014309, 8014289, 8014288, 8014283, 8014281, ...</td>\n",
       "      <td>KarlsruheHbf</td>\n",
       "      <td>[00447, 00452, 00456, 00501, 00506, 00513, 005...</td>\n",
       "      <td>[00447, 00453, 00457, 00502, 00507, 00514, 005...</td>\n",
       "    </tr>\n",
       "    <tr>\n",
       "      <th>1</th>\n",
       "      <td>12606485457</td>\n",
       "      <td>04701</td>\n",
       "      <td>RE</td>\n",
       "      <td>8014228</td>\n",
       "      <td>8014309</td>\n",
       "      <td>00456</td>\n",
       "      <td>00541</td>\n",
       "      <td>[8014228, 8014241, 8014245, 8014277, 8014281, ...</td>\n",
       "      <td>Offenburg</td>\n",
       "      <td>[00456, 00505, 00509, 00515, 00521, 00526, 005...</td>\n",
       "      <td>[00456, 00505, 00510, 00516, 00522, 00527, 005...</td>\n",
       "    </tr>\n",
       "    <tr>\n",
       "      <th>2</th>\n",
       "      <td>12605476307</td>\n",
       "      <td>04702</td>\n",
       "      <td>RE</td>\n",
       "      <td>8014309</td>\n",
       "      <td>8014228</td>\n",
       "      <td>00546</td>\n",
       "      <td>00639</td>\n",
       "      <td>[8014309, 8014289, 8014288, 8014283, 8014281, ...</td>\n",
       "      <td>KarlsruheHbf</td>\n",
       "      <td>[00546, 00550, 00555, 00559, 00604, 00611, 006...</td>\n",
       "      <td>[00546, 00551, 00555, 00600, 00605, 00612, 006...</td>\n",
       "    </tr>\n",
       "    <tr>\n",
       "      <th>3</th>\n",
       "      <td>12611010807</td>\n",
       "      <td>04703</td>\n",
       "      <td>RE</td>\n",
       "      <td>8014521</td>\n",
       "      <td>8014586</td>\n",
       "      <td>00551</td>\n",
       "      <td>00725</td>\n",
       "      <td>[8014521, 8014529, 8014533, 8014534, 8014554, ...</td>\n",
       "      <td>Konstanz</td>\n",
       "      <td>[00551, 00601, 00609, 00615, 00632, 00635, 006...</td>\n",
       "      <td>[00551, 00602, 00610, 00619, 00633, 00636, 006...</td>\n",
       "    </tr>\n",
       "    <tr>\n",
       "      <th>4</th>\n",
       "      <td>12610946707</td>\n",
       "      <td>04704</td>\n",
       "      <td>RE</td>\n",
       "      <td>8014521</td>\n",
       "      <td>8014228</td>\n",
       "      <td>00535</td>\n",
       "      <td>00750</td>\n",
       "      <td>[8014521, 8014518, 8014513, 8014511, 8014502, ...</td>\n",
       "      <td>KarlsruheHbf</td>\n",
       "      <td>[00535, 00543, 00557, 00611, 00619, 00625, 006...</td>\n",
       "      <td>[00535, 00544, 00558, 00612, 00621, 00626, 006...</td>\n",
       "    </tr>\n",
       "  </tbody>\n",
       "</table>\n",
       "</div>"
      ],
      "text/plain": [
       "   schedule_id route_number transport_type start_station_ID end_station_ID  \\\n",
       "0  12607908707        04700             RE          8014309        8014228   \n",
       "1  12606485457        04701             RE          8014228        8014309   \n",
       "2  12605476307        04702             RE          8014309        8014228   \n",
       "3  12611010807        04703             RE          8014521        8014586   \n",
       "4  12610946707        04704             RE          8014521        8014228   \n",
       "\n",
       "  route_start_time route_end_time  \\\n",
       "0            00447          00540   \n",
       "1            00456          00541   \n",
       "2            00546          00639   \n",
       "3            00551          00725   \n",
       "4            00535          00750   \n",
       "\n",
       "                                 passing_station_IDS passing_st_names  \\\n",
       "0  [8014309, 8014289, 8014288, 8014283, 8014281, ...     KarlsruheHbf   \n",
       "1  [8014228, 8014241, 8014245, 8014277, 8014281, ...        Offenburg   \n",
       "2  [8014309, 8014289, 8014288, 8014283, 8014281, ...     KarlsruheHbf   \n",
       "3  [8014521, 8014529, 8014533, 8014534, 8014554, ...         Konstanz   \n",
       "4  [8014521, 8014518, 8014513, 8014511, 8014502, ...     KarlsruheHbf   \n",
       "\n",
       "                                       arrival_times  \\\n",
       "0  [00447, 00452, 00456, 00501, 00506, 00513, 005...   \n",
       "1  [00456, 00505, 00509, 00515, 00521, 00526, 005...   \n",
       "2  [00546, 00550, 00555, 00559, 00604, 00611, 006...   \n",
       "3  [00551, 00601, 00609, 00615, 00632, 00635, 006...   \n",
       "4  [00535, 00543, 00557, 00611, 00619, 00625, 006...   \n",
       "\n",
       "                                     departure_times  \n",
       "0  [00447, 00453, 00457, 00502, 00507, 00514, 005...  \n",
       "1  [00456, 00505, 00510, 00516, 00522, 00527, 005...  \n",
       "2  [00546, 00551, 00555, 00600, 00605, 00612, 006...  \n",
       "3  [00551, 00602, 00610, 00619, 00633, 00636, 006...  \n",
       "4  [00535, 00544, 00558, 00612, 00621, 00626, 006...  "
      ]
     },
     "execution_count": 7,
     "metadata": {},
     "output_type": "execute_result"
    }
   ],
   "source": [
    "# making the dataframe from obtained lists \n",
    "data_dict = {'schedule_id': sch_number, 'route_number': route_number,'transport_type': transport_type,\n",
    "            'start_station_ID': start_st_id,'end_station_ID': end_st_id, 'route_start_time': [time[0] for time in st_arr_times],\n",
    "             'route_end_time': [time[-1] for time in st_dep_times],\n",
    "            'passing_station_IDS': passing_st_ids,\n",
    "            'passing_st_names': passing_st_names, 'arrival_times':st_arr_times, 'departure_times': st_dep_times}\n",
    "data = pd.DataFrame.from_dict(data_dict)\n",
    "data.head()"
   ]
  },
  {
   "cell_type": "code",
   "execution_count": 21,
   "metadata": {},
   "outputs": [],
   "source": [
    "# format the date\n",
    "data.route_start_time = abs(data.route_start_time.astype(int)/100)%24\n",
    "data.route_end_time = abs(data.route_end_time.astype(int)/100)%24"
   ]
  },
  {
   "cell_type": "code",
   "execution_count": 22,
   "metadata": {},
   "outputs": [
    {
     "name": "stdout",
     "output_type": "stream",
     "text": [
      "The number of available schedules until 2020 March 1st for a day in Switzerland: 473233\n"
     ]
    }
   ],
   "source": [
    "print(\"The number of available schedules until 2020 March 1st for a day in Switzerland: {}\".format(data.shape[0]))"
   ]
  },
  {
   "cell_type": "markdown",
   "metadata": {},
   "source": [
    "## Prepare the data for D3. force"
   ]
  },
  {
   "cell_type": "code",
   "execution_count": 9,
   "metadata": {},
   "outputs": [],
   "source": [
    "def create_links(passing_st_ids):\n",
    "    \"\"\"Create the dict of links with frequency values\"\"\"\n",
    "    links = []\n",
    "    info = {}\n",
    "    for i in range(len(passing_st_ids)):\n",
    "        sorted_ids = sorted(passing_st_ids[i]) \n",
    "        for j in range(len(sorted_ids)):\n",
    "            for k in range(j+1, len(sorted_ids)):\n",
    "                info = {}\n",
    "                info['source'] = sorted_ids[j]\n",
    "                info['target'] = sorted_ids[k]\n",
    "                info['value'] = 1\n",
    "                links.append(info)\n",
    "    return links\n",
    "links = create_links(passing_st_ids)\n",
    "a = pd.DataFrame.from_dict(links)\n",
    "d = a.groupby(['source','target'])['value'].sum().reset_index()\n",
    "d.to_csv(DATAFOLDER + '/links.csv')"
   ]
  },
  {
   "cell_type": "code",
   "execution_count": 134,
   "metadata": {},
   "outputs": [],
   "source": [
    "d.to_csv(DATAFOLDER + '/data_figures/links.csv', index=False)"
   ]
  },
  {
   "cell_type": "markdown",
   "metadata": {},
   "source": [
    "## Prepare data for Time Radial Histogram"
   ]
  },
  {
   "cell_type": "code",
   "execution_count": 24,
   "metadata": {},
   "outputs": [
    {
     "name": "stdout",
     "output_type": "stream",
     "text": [
      "The number of not-duplicated available schedules until 2020 March 1st for a day in Switzerland: 458881\n"
     ]
    }
   ],
   "source": [
    "print(\"The number of not-duplicated available schedules until 2020 March 1st for a day in Switzerland: {}\".format(time_data.shape[0]))\n"
   ]
  },
  {
   "cell_type": "code",
   "execution_count": 25,
   "metadata": {},
   "outputs": [
    {
     "data": {
      "text/html": [
       "<div>\n",
       "<style scoped>\n",
       "    .dataframe tbody tr th:only-of-type {\n",
       "        vertical-align: middle;\n",
       "    }\n",
       "\n",
       "    .dataframe tbody tr th {\n",
       "        vertical-align: top;\n",
       "    }\n",
       "\n",
       "    .dataframe thead th {\n",
       "        text-align: right;\n",
       "    }\n",
       "</style>\n",
       "<table border=\"1\" class=\"dataframe\">\n",
       "  <thead>\n",
       "    <tr style=\"text-align: right;\">\n",
       "      <th></th>\n",
       "      <th>route_number</th>\n",
       "      <th>transport_type</th>\n",
       "      <th>route_start_time</th>\n",
       "      <th>route_end_time</th>\n",
       "    </tr>\n",
       "  </thead>\n",
       "  <tbody>\n",
       "    <tr>\n",
       "      <th>0</th>\n",
       "      <td>04700</td>\n",
       "      <td>RE</td>\n",
       "      <td>4.47</td>\n",
       "      <td>5.40</td>\n",
       "    </tr>\n",
       "    <tr>\n",
       "      <th>1</th>\n",
       "      <td>04701</td>\n",
       "      <td>RE</td>\n",
       "      <td>4.56</td>\n",
       "      <td>5.41</td>\n",
       "    </tr>\n",
       "    <tr>\n",
       "      <th>2</th>\n",
       "      <td>04702</td>\n",
       "      <td>RE</td>\n",
       "      <td>5.46</td>\n",
       "      <td>6.39</td>\n",
       "    </tr>\n",
       "    <tr>\n",
       "      <th>3</th>\n",
       "      <td>04703</td>\n",
       "      <td>RE</td>\n",
       "      <td>5.51</td>\n",
       "      <td>7.25</td>\n",
       "    </tr>\n",
       "    <tr>\n",
       "      <th>4</th>\n",
       "      <td>04704</td>\n",
       "      <td>RE</td>\n",
       "      <td>5.35</td>\n",
       "      <td>7.50</td>\n",
       "    </tr>\n",
       "  </tbody>\n",
       "</table>\n",
       "</div>"
      ],
      "text/plain": [
       "  route_number transport_type  route_start_time  route_end_time\n",
       "0        04700             RE              4.47            5.40\n",
       "1        04701             RE              4.56            5.41\n",
       "2        04702             RE              5.46            6.39\n",
       "3        04703             RE              5.51            7.25\n",
       "4        04704             RE              5.35            7.50"
      ]
     },
     "execution_count": 25,
     "metadata": {},
     "output_type": "execute_result"
    }
   ],
   "source": [
    "time_data.head()"
   ]
  },
  {
   "cell_type": "code",
   "execution_count": 26,
   "metadata": {},
   "outputs": [
    {
     "name": "stdout",
     "output_type": "stream",
     "text": [
      "[7.6, 8.0, 8.5, 9.0, 9.5, 10.0, 10.5, 11.0, 11.5, 12.0, 12.5]\n"
     ]
    }
   ],
   "source": [
    "def decompose_time(start_time, end_time, interval_fr = 1):\n",
    "    \"\"\"interval_fr = {1, 2} in every 1 hour or 30 mins\"\"\"\n",
    "    sc_start_time = []\n",
    "    sc_start_time.append(start_time)\n",
    "    a_0 = (1/interval_fr) * (np.floor(interval_fr * start_time) + 1)\n",
    "    a_n = (1/interval_fr) * (np.floor(interval_fr * end_time))\n",
    "    while(a_0 < a_n):\n",
    "        sc_start_time.append(a_0)\n",
    "        a_0 += 1/interval_fr\n",
    "    if(int(start_time) != int(end_time)): \n",
    "        sc_start_time.append(end_time)\n",
    "    return sc_start_time\n",
    "print(decompose_time(start_time = 7.60, end_time = 12.5, interval_fr = 2))"
   ]
  },
  {
   "cell_type": "code",
   "execution_count": 27,
   "metadata": {},
   "outputs": [],
   "source": [
    "a = [time_data.route_start_time.tolist(), time_data.route_end_time.tolist()]"
   ]
  },
  {
   "cell_type": "code",
   "execution_count": 29,
   "metadata": {},
   "outputs": [],
   "source": [
    "collect = []\n",
    "for i in range(len(a[0])):\n",
    "    times = decompose_time(a[0][i], a[1][i], interval_fr = 1)\n",
    "    collect.append(times)\n",
    "    \n",
    "flat_list = [item for sublist in collect for item in sublist]"
   ]
  },
  {
   "cell_type": "code",
   "execution_count": 135,
   "metadata": {},
   "outputs": [],
   "source": [
    "time = pd.DataFrame(flat_list, columns=['time_bin_1_hour'])\n",
    "time.to_csv(DATAFOLDER +'/data_figures/time_bin_1_hours.csv', index=False)"
   ]
  },
  {
   "cell_type": "code",
   "execution_count": 37,
   "metadata": {},
   "outputs": [
    {
     "data": {
      "image/png": "[encoded data removed]",
      "text/plain": [
       "<Figure size 432x288 with 1 Axes>"
      ]
     },
     "metadata": {
      "needs_background": "light"
     },
     "output_type": "display_data"
    }
   ],
   "source": [
    "n, bins, patches = plt.hist(flat_list, bins = 24)\n",
    "plt.xlabel('Hour')\n",
    "plt.ylabel('Frequency')\n",
    "plt.title('Histogram of number of transportation running each time period')\n",
    "plt.show()"
   ]
  },
  {
   "cell_type": "markdown",
   "metadata": {},
   "source": [
    "## Prepare the data for Stacked Barchart"
   ]
  },
  {
   "cell_type": "code",
   "execution_count": 83,
   "metadata": {},
   "outputs": [
    {
     "data": {
      "text/plain": [
       "'not in switzerland'"
      ]
     },
     "execution_count": 83,
     "metadata": {},
     "output_type": "execute_result"
    }
   ],
   "source": [
    "# load GeoJSON file containing sectors\n",
    "with open(DATAFOLDER + '/dd_geojson_switzerland.json') as f:\n",
    "    js = json.load(f)\n",
    "    \n",
    "# construct point based on lon/lat returned by geocoder\n",
    "point = Point(8.446594, 47.276070)\n",
    "def get_canton(js, lat, long):\n",
    "    point = Point(lat, long)\n",
    "   # check each polygon to see if it contains the point\n",
    "    for feature in js['features']:\n",
    "        polygon = shape(feature['geometry'])\n",
    "        if polygon.contains(point):\n",
    "            return feature['properties']['name']\n",
    "    return 'not in switzerland'\n",
    "get_canton(js, 7.655224, 47.597713)"
   ]
  },
  {
   "cell_type": "code",
   "execution_count": 41,
   "metadata": {},
   "outputs": [],
   "source": [
    "# prepare data for stacked barchart\n",
    "st, rn, tt, at, dt   = ([] for i in range(5))\n",
    "for ix1, st_ids in enumerate(passing_st_ids):\n",
    "    for ix2, st_id in enumerate(st_ids):\n",
    "        st.append(st_id)\n",
    "        rn.append(route_number[ix1])\n",
    "        tt.append(transport_type[ix1])\n",
    "        at.append(st_arr_times[ix1][ix2])\n",
    "        dt.append(st_dep_times[ix1][ix2])      "
   ]
  },
  {
   "cell_type": "code",
   "execution_count": 42,
   "metadata": {},
   "outputs": [
    {
     "data": {
      "text/html": [
       "<div>\n",
       "<style scoped>\n",
       "    .dataframe tbody tr th:only-of-type {\n",
       "        vertical-align: middle;\n",
       "    }\n",
       "\n",
       "    .dataframe tbody tr th {\n",
       "        vertical-align: top;\n",
       "    }\n",
       "\n",
       "    .dataframe thead th {\n",
       "        text-align: right;\n",
       "    }\n",
       "</style>\n",
       "<table border=\"1\" class=\"dataframe\">\n",
       "  <thead>\n",
       "    <tr style=\"text-align: right;\">\n",
       "      <th></th>\n",
       "      <th>station_id</th>\n",
       "      <th>route_number</th>\n",
       "      <th>transport_type</th>\n",
       "    </tr>\n",
       "  </thead>\n",
       "  <tbody>\n",
       "    <tr>\n",
       "      <th>0</th>\n",
       "      <td>8014309</td>\n",
       "      <td>04700</td>\n",
       "      <td>RE</td>\n",
       "    </tr>\n",
       "    <tr>\n",
       "      <th>1</th>\n",
       "      <td>8014289</td>\n",
       "      <td>04700</td>\n",
       "      <td>RE</td>\n",
       "    </tr>\n",
       "    <tr>\n",
       "      <th>2</th>\n",
       "      <td>8014288</td>\n",
       "      <td>04700</td>\n",
       "      <td>RE</td>\n",
       "    </tr>\n",
       "    <tr>\n",
       "      <th>3</th>\n",
       "      <td>8014283</td>\n",
       "      <td>04700</td>\n",
       "      <td>RE</td>\n",
       "    </tr>\n",
       "    <tr>\n",
       "      <th>4</th>\n",
       "      <td>8014281</td>\n",
       "      <td>04700</td>\n",
       "      <td>RE</td>\n",
       "    </tr>\n",
       "  </tbody>\n",
       "</table>\n",
       "</div>"
      ],
      "text/plain": [
       "  station_id route_number transport_type\n",
       "0    8014309        04700             RE\n",
       "1    8014289        04700             RE\n",
       "2    8014288        04700             RE\n",
       "3    8014283        04700             RE\n",
       "4    8014281        04700             RE"
      ]
     },
     "execution_count": 42,
     "metadata": {},
     "output_type": "execute_result"
    }
   ],
   "source": [
    "# making the dataframe from obtained lists \n",
    "tr_res_dict = {'station_id': st, 'route_number': rn,'transport_type': tt\n",
    "              # ,'arrival_time': at,'sep_time': dt\n",
    "              }\n",
    "tr_res = pd.DataFrame.from_dict(tr_res_dict)\n",
    "tr_res.drop_duplicates(inplace=True)\n",
    "tr_res.head()"
   ]
  },
  {
   "cell_type": "code",
   "execution_count": 43,
   "metadata": {},
   "outputs": [],
   "source": [
    "# map into several transport types \n",
    "trains = ['ICE', 'TGV', 'RJ', 'EC', 'IC', 'IR', 'PE', 'RE', 'S', 'SN', 'R', 'ARZ', 'EXT', 'NJ', 'IRE','RJX', 'RB', 'CC','TER']\n",
    "fun = ['FUN', 'PB']\n",
    "metro = ['M']\n",
    "bus = ['B', 'CAR', 'EXB']\n",
    "ship = ['BAT']\n",
    "tram = ['T', 'TE2']\n",
    "lift = ['GB', 'ASC']\n",
    "other = ['SL', 'BN', 'FAE', 'RUB', 'KB','BP', 'EN']\n",
    "\n",
    "tr_types = ['train','fun','metro','bus','ship','tram']\n",
    "tr_res['transport_type'][tr_res.transport_type.isin(trains)] = 'train'\n",
    "tr_res['transport_type'][tr_res.transport_type.isin(fun)] = 'fun'\n",
    "tr_res['transport_type'][tr_res.transport_type.isin(metro)] = 'metro'\n",
    "tr_res['transport_type'][tr_res.transport_type.isin(bus)] = 'bus'\n",
    "tr_res['transport_type'][tr_res.transport_type.isin(ship)] = 'ship'\n",
    "tr_res['transport_type'][tr_res.transport_type.isin(tram)] = 'tram'\n",
    "tr_res['transport_type'][tr_res.transport_type.isin(lift)] = 'lift'\n",
    "tr_res['transport_type'][tr_res.transport_type.isin(other)] = 'other'"
   ]
  },
  {
   "cell_type": "code",
   "execution_count": 20,
   "metadata": {},
   "outputs": [
    {
     "data": {
      "text/plain": [
       "Text(0.5, 0, 'Number of schedules for different route types')"
      ]
     },
     "execution_count": 20,
     "metadata": {},
     "output_type": "execute_result"
    },
    {
     "data": {
      "image/png": "[encoded data removed]",
      "text/plain": [
       "<Figure size 432x288 with 1 Axes>"
      ]
     },
     "metadata": {
      "needs_background": "light"
     },
     "output_type": "display_data"
    }
   ],
   "source": [
    "ax = tr_res.transport_type.value_counts()[:10].plot.barh(legend=False)\n",
    "ax.set_ylabel('Transportation type')\n",
    "ax.set_xlabel('Number of schedules for different route types')"
   ]
  },
  {
   "cell_type": "code",
   "execution_count": 56,
   "metadata": {},
   "outputs": [],
   "source": [
    "with open(DATAFOLDER + \"/2020_03_01/BFKOORD_GEO\") as stations:\n",
    "    text = stations.read()\n",
    "result = text.split('\\n')\n",
    "st_id, lat, longt, number, name = ([] for i in range(5))\n",
    "for i in range(len(result) - 1):\n",
    "    each = result[i].split()\n",
    "    st_id.append(each[0])\n",
    "    lat.append(each[1])\n",
    "    longt.append(each[2])\n",
    "    number.append(each[3])\n",
    "    name.append(' '.join(each[5:])) \n",
    "station_info = {'station_id': st_id, 'latitude': lat,'longitude': longt\n",
    "               ,'number': number,'station_name': name}\n",
    "stations = pd.DataFrame.from_dict(station_info)"
   ]
  },
  {
   "cell_type": "code",
   "execution_count": 72,
   "metadata": {},
   "outputs": [],
   "source": [
    "stations.latitude= stations.latitude.astype(float)\n",
    "stations.longitude= stations.longitude.astype(float)"
   ]
  },
  {
   "cell_type": "code",
   "execution_count": 101,
   "metadata": {},
   "outputs": [],
   "source": [
    "stations['canton'] = stations.apply(lambda row: get_canton(js, row.latitude, row.longitude), axis = 1)"
   ]
  },
  {
   "cell_type": "code",
   "execution_count": 108,
   "metadata": {},
   "outputs": [],
   "source": [
    "suisse_stations = stations[stations.canton != 'not in switzerland']"
   ]
  },
  {
   "cell_type": "code",
   "execution_count": 112,
   "metadata": {},
   "outputs": [],
   "source": [
    "station_name_id_map = pd.merge(tr_res, suisse_stations, how='inner', left_on='station_id', right_on='station_id')"
   ]
  },
  {
   "cell_type": "code",
   "execution_count": 115,
   "metadata": {},
   "outputs": [
    {
     "name": "stdout",
     "output_type": "stream",
     "text": [
      "(7268827, 3)\n",
      "(7016491, 8)\n"
     ]
    }
   ],
   "source": [
    "print(tr_res.shape)\n",
    "print(station_name_id_map.shape)"
   ]
  },
  {
   "cell_type": "code",
   "execution_count": 120,
   "metadata": {},
   "outputs": [],
   "source": [
    "canton_tt_data = station_name_id_map.groupby(['canton', 'transport_type']).size().reset_index(name='counts')"
   ]
  },
  {
   "cell_type": "code",
   "execution_count": 133,
   "metadata": {},
   "outputs": [],
   "source": [
    "canton_tt_data.to_csv(DATAFOLDER + '/data_figures/t_types_per_canton.csv', index=False)"
   ]
  },
  {
   "cell_type": "code",
   "execution_count": 136,
   "metadata": {},
   "outputs": [
    {
     "data": {
      "text/html": [
       "<div>\n",
       "<style scoped>\n",
       "    .dataframe tbody tr th:only-of-type {\n",
       "        vertical-align: middle;\n",
       "    }\n",
       "\n",
       "    .dataframe tbody tr th {\n",
       "        vertical-align: top;\n",
       "    }\n",
       "\n",
       "    .dataframe thead th {\n",
       "        text-align: right;\n",
       "    }\n",
       "</style>\n",
       "<table border=\"1\" class=\"dataframe\">\n",
       "  <thead>\n",
       "    <tr style=\"text-align: right;\">\n",
       "      <th></th>\n",
       "      <th>canton</th>\n",
       "      <th>transport_type</th>\n",
       "      <th>counts</th>\n",
       "    </tr>\n",
       "  </thead>\n",
       "  <tbody>\n",
       "    <tr>\n",
       "      <th>0</th>\n",
       "      <td>Aargau</td>\n",
       "      <td>bus</td>\n",
       "      <td>212358</td>\n",
       "    </tr>\n",
       "    <tr>\n",
       "      <th>1</th>\n",
       "      <td>Aargau</td>\n",
       "      <td>other</td>\n",
       "      <td>398</td>\n",
       "    </tr>\n",
       "    <tr>\n",
       "      <th>2</th>\n",
       "      <td>Aargau</td>\n",
       "      <td>ship</td>\n",
       "      <td>144</td>\n",
       "    </tr>\n",
       "    <tr>\n",
       "      <th>3</th>\n",
       "      <td>Aargau</td>\n",
       "      <td>train</td>\n",
       "      <td>16110</td>\n",
       "    </tr>\n",
       "    <tr>\n",
       "      <th>4</th>\n",
       "      <td>Appenzell Ausserrhoden</td>\n",
       "      <td>bus</td>\n",
       "      <td>16913</td>\n",
       "    </tr>\n",
       "  </tbody>\n",
       "</table>\n",
       "</div>"
      ],
      "text/plain": [
       "                   canton transport_type  counts\n",
       "0                  Aargau            bus  212358\n",
       "1                  Aargau          other     398\n",
       "2                  Aargau           ship     144\n",
       "3                  Aargau          train   16110\n",
       "4  Appenzell Ausserrhoden            bus   16913"
      ]
     },
     "execution_count": 136,
     "metadata": {},
     "output_type": "execute_result"
    }
   ],
   "source": [
    "canton_tt_data.head()"
   ]
  },
  {
   "cell_type": "code",
   "execution_count": null,
   "metadata": {},
   "outputs": [],
   "source": []
  }
 ],
 "metadata": {
  "kernelspec": {
   "display_name": "Python 3",
   "language": "python",
   "name": "python3"
  },
  "language_info": {
   "codemirror_mode": {
    "name": "ipython",
    "version": 3
   },
   "file_extension": ".py",
   "mimetype": "text/x-python",
   "name": "python",
   "nbconvert_exporter": "python",
   "pygments_lexer": "ipython3",
   "version": "3.6.8"
  },
  "toc": {
   "nav_menu": {},
   "number_sections": true,
   "sideBar": true,
   "skip_h1_title": false,
   "toc_cell": true,
   "toc_position": {},
   "toc_section_display": "block",
   "toc_window_display": false
  }
 },
 "nbformat": 4,
 "nbformat_minor": 2
}
