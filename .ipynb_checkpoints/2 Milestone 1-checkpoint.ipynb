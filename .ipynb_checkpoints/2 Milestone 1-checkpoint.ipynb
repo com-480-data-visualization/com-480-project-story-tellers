{
 "cells": [
  {
   "cell_type": "markdown",
   "metadata": {
    "toc": true
   },
   "source": [
    "<h1>Table of Contents<span class=\"tocSkip\"></span></h1>\n",
    "<div class=\"toc\" style=\"margin-top: 1em;\"><ul class=\"toc-item\"><li><span><a href=\"#Milestone-1:\" data-toc-modified-id=\"Milestone-1:-1\"><span class=\"toc-item-num\">1&nbsp;&nbsp;</span>Milestone 1:</a></span><ul class=\"toc-item\"><li><span><a href=\"#Problematic\" data-toc-modified-id=\"Problematic-1.1\"><span class=\"toc-item-num\">1.1&nbsp;&nbsp;</span>Problematic</a></span></li><li><span><a href=\"#Dataset\" data-toc-modified-id=\"Dataset-1.2\"><span class=\"toc-item-num\">1.2&nbsp;&nbsp;</span>Dataset</a></span></li><li><span><a href=\"#Exploratory-Data-Analysis\" data-toc-modified-id=\"Exploratory-Data-Analysis-1.3\"><span class=\"toc-item-num\">1.3&nbsp;&nbsp;</span>Exploratory Data Analysis</a></span></li><li><span><a href=\"#Schedule-Data:-M-TODO\" data-toc-modified-id=\"Schedule-Data:-M-TODO-1.4\"><span class=\"toc-item-num\">1.4&nbsp;&nbsp;</span>Schedule Data: M TODO</a></span><ul class=\"toc-item\"><li><span><a href=\"#Station-capacity-and-train-capacity\" data-toc-modified-id=\"Station-capacity-and-train-capacity-1.4.1\"><span class=\"toc-item-num\">1.4.1&nbsp;&nbsp;</span>Station capacity and train capacity</a></span></li><li><span><a href=\"#Some-other-informations\" data-toc-modified-id=\"Some-other-informations-1.4.2\"><span class=\"toc-item-num\">1.4.2&nbsp;&nbsp;</span>Some other informations</a></span></li></ul></li><li><span><a href=\"#Related-work\" data-toc-modified-id=\"Related-work-1.5\"><span class=\"toc-item-num\">1.5&nbsp;&nbsp;</span>Related work</a></span></li></ul></li></ul></div>"
   ]
  },
  {
   "cell_type": "markdown",
   "metadata": {},
   "source": [
    "# Milestone 1: \n",
    "\n",
    "In this notebook we develop the follwing sections for Milestone 1. \n",
    "\n",
    "\n",
    "\n",
    "<div class=\"toc\"><ul class=\"toc-item1\"><li><span><a href=\"#Problematic\" data-toc-modified-id=\"Problematic\">Problematic</a>\n",
    "</div>\n",
    "<div class=\"toc\"><ul class=\"toc-item2\"><li><span><a href=\"#Dataset\" data-toc-modified-id=\"Dataset\">Dataset</a>\n",
    "</div>\n",
    "<div class=\"toc\"><ul class=\"toc-item2\"><li><span><a href=\"#Exploratory Data Analysis\" data-toc-modified-id=\"Exploratory Data Analysis\">Exploratory Data Analysis</a>\n",
    "</div>\n",
    "<div class=\"toc\"><ul class=\"toc-item2\"><li><span><a href=\"#Related work\" data-toc-modified-id=\"Related work\">Related work</a>\n",
    "</div>    \n",
    "    \n",
    "Students: Mariam Hakobyan (298698), Tianchi Yu (319877), Wenuka Gunarathna (309398)\n"
   ]
  },
  {
   "cell_type": "markdown",
   "metadata": {},
   "source": [
    "## Problematic\n",
    "\n",
    "\n",
    "The project aims to visualize the swiss transport connections in different parts of the country and provide statistical-graphical visualization on the nodes connectivity, travelling time from station to station and pessenger capacities. The main pillars of the visualization will be:\n",
    "\n",
    "- **Swiss transport - map** composed of \n",
    "    - Scheduled transport movements in time on map,\n",
    "    - Route Maps.\n",
    "    - See our initial update at https://wenuka.github.io/\n",
    "    - TODO attach a screenshot if possible\n",
    "- **Figure 2** a radial graph with\n",
    "    - time in 24 hours as the angle (24 hours to 360 degrees)\n",
    "    - distance travelled as the curve lenght \n",
    "    - mode of transport from different colours\n",
    "- **Figure 3** a 2D graph to show the distribution of transport resources with\n",
    "    - population in the area for X-axis\n",
    "    - capacity of the transport in Y-axis\n",
    "    - colour for different transport mode or for each hour (TBD)\n",
    "- **Figure 4** a radial graph to show how connected each stations\n",
    "    - each station name around the graph\n",
    "    - connecting each point from one to another inside the circle\n",
    "\n",
    "    \n",
    "The **overview** of the visualization will be a process of interactive map in modes and graphical figures for statistical story-telling.  \n",
    "\n",
    "\n",
    "The **motivation** behind the idea is to visualize the process of the biggest **almost-neutral CO2** transport system work in Switzerland.\n",
    "\n",
    "The **target audience** is planned to include people who are interested in transportation systems, newtork visualizations, Switzerland and who are just curious about things in world. Will require a basic knowledge to understand the statistical figures.  \n"
   ]
  },
  {
   "cell_type": "markdown",
   "metadata": {},
   "source": [
    "## Dataset\n",
    "\n",
    "1. Sbb **schedule data** for normal weekdays/ends. The Dataset is Open source published by SBB\n",
    "2. Swiss map, station coordinates, transportation map(api access)\n",
    "3. Big station capacities\n"
   ]
  },
  {
   "cell_type": "markdown",
   "metadata": {},
   "source": [
    "The **schedule data** is under consideration to be used to visualize the transport movements in time on map.We obtain the data from [Open Data Platform Swiss Public Transport](https://opentransportdata.swiss/en/dataset/timetable-2020-hrdf). New schedules are being updated by the publisher. We have considered to use 2020 March 1st schedule, although new schedule after COVID-19 epidemic's preventaive measures can be visualized as well to see the difference of the process change in transportation.  \n",
    "\n",
    "TODO **Swiss Maps** what we will use and why,  some sources please refer to the word doc I put some things that I encounter \n",
    "\n",
    "TODO **Big station capacities** what we will use and why,  some sources please refer to the word doc I put some things that I encounter "
   ]
  },
  {
   "cell_type": "markdown",
   "metadata": {},
   "source": [
    "## Exploratory Data Analysis"
   ]
  },
  {
   "cell_type": "markdown",
   "metadata": {},
   "source": [
    "## Schedule Data: M TODO"
   ]
  },
  {
   "cell_type": "code",
   "execution_count": 4,
   "metadata": {},
   "outputs": [],
   "source": [
    "## TODO: add your part guys"
   ]
  },
  {
   "cell_type": "markdown",
   "metadata": {},
   "source": [
    "Tianchi Yu"
   ]
  },
  {
   "cell_type": "markdown",
   "metadata": {},
   "source": [
    "### Station capacity and train capacity"
   ]
  },
  {
   "cell_type": "markdown",
   "metadata": {},
   "source": [
    "**The first dataset shows the total user number of SBB in different cantons(big stations) of different years(from 2012 to 2019)**\n",
    "Also:\n",
    "* station geos\n",
    "* short name of stations\n",
    "* name of cantons"
   ]
  },
  {
   "cell_type": "code",
   "execution_count": 40,
   "metadata": {},
   "outputs": [
    {
     "name": "stdout",
     "output_type": "stream",
     "text": [
      "                               0           1       2       3       4       5   \\\n",
      "0   bahnhof_gare_stazione_station     einheit    2012    2013    2014    2015   \n",
      "1                            Chur  PB/Werktag       —       —       —   27000   \n",
      "2                      Winterthur  PB/Werktag  120000  112000  115000  121000   \n",
      "3                             Zug  PB/Werktag   62000   62000   62000   64000   \n",
      "4                           Baden  PB/Werktag       —       —       —   63000   \n",
      "5                          Genève  PB/Werktag       —       —       —  151000   \n",
      "6                        Lausanne  PB/Werktag  132000  139000  140000  143000   \n",
      "7                       Neuchâtel  PB/Werktag       —       —       —   33000   \n",
      "8                     Zürich Enge  PB/Werktag       —       —       —   21000   \n",
      "9                           Aarau  PB/Werktag       —       —       —   71000   \n",
      "10                      Basel SBB  PB/Werktag  136000  134000  135000  134000   \n",
      "11                     Bellinzona  PB/Werktag       —       —       —       —   \n",
      "12                           Bern  PB/Werktag  310000  306000  305000  313000   \n",
      "13                    Biel/Bienne  PB/Werktag       —       —       —   68000   \n",
      "14                         Luzern  PB/Werktag  149000  160000  157000  159000   \n",
      "15                           Thun  PB/Werktag       —       —       —   43000   \n",
      "16              Zürich Hardbrücke  PB/Werktag       —       —       —   39000   \n",
      "17                Zürich Oerlikon  PB/Werktag       —       —       —       —   \n",
      "18              Fribourg/Freiburg  PB/Werktag       —       —       —   31000   \n",
      "19                          Olten  PB/Werktag       —       —       —   73000   \n",
      "20              Zürich Altstetten  PB/Werktag       —       —       —   57000   \n",
      "21             Zürich Stadelhofen  PB/Werktag       —       —       —   92000   \n",
      "22                Genève Aéroport  PB/Werktag       —       —       —   41000   \n",
      "23                         Lugano  PB/Werktag       —       —       —       —   \n",
      "24                     St. Gallen  PB/Werktag   75000   79000   77000   78000   \n",
      "25                      Zürich HB  PB/Werktag  412000  429000  437000  437000   \n",
      "\n",
      "        6       7       8         9   \\\n",
      "0     2016    2017    2018    2019.0   \n",
      "1    27000   27000   27000   28000.0   \n",
      "2   121000  117000  121000  128000.0   \n",
      "3    66000   66000   66000   68000.0   \n",
      "4    63000   63000   61000   60000.0   \n",
      "5   163000  166000  171000  177000.0   \n",
      "6   149000  148000  145000  152000.0   \n",
      "7    33000   33000   33000   33000.0   \n",
      "8    23000   23000   25000   25000.0   \n",
      "9    72000   73000   72000   76000.0   \n",
      "10  135000  133000  134000  136000.0   \n",
      "11       —   15000   15000   15000.0   \n",
      "12  318000  324000  326000  330000.0   \n",
      "13   67000   67000   69000   69000.0   \n",
      "14  163000  164000  167000  167000.0   \n",
      "15   43000   42000   49000   45000.0   \n",
      "16   48000       —   49000   55000.0   \n",
      "17       —  106000  112000  117000.0   \n",
      "18   31000   31000   31000   32000.0   \n",
      "19   74000   75000   76000   77000.0   \n",
      "20   60000   64000   62000       NaN   \n",
      "21   95000  100000   99000  100000.0   \n",
      "22   42000   44000   44000   46000.0   \n",
      "23       —   24000   26000   26000.0   \n",
      "24   77000       —       —   82000.0   \n",
      "25  439000  438000  443000  461000.0   \n",
      "\n",
      "                                                   10       11     12  \\\n",
      "0                                         bemerkungen    bpuic  didok   \n",
      "1                                                 NaN  8509000   9000   \n",
      "2                                                 NaN  8506000   6000   \n",
      "3                                                 NaN  8502204   2204   \n",
      "4                                                 NaN  8503504   3504   \n",
      "5                                                 NaN  8501008   1008   \n",
      "6                                                 NaN  8501120   1120   \n",
      "7                                                 NaN  8504221   4221   \n",
      "8                                                 NaN  8503010   3010   \n",
      "9                                                 NaN  8502113   2113   \n",
      "10                                                NaN  8500010     10   \n",
      "11                                                NaN  8505213   5213   \n",
      "12                                                NaN  8507000   7000   \n",
      "13                                                NaN  8504300   4300   \n",
      "14                                                NaN  8505000   5000   \n",
      "15                                                NaN  8507100   7100   \n",
      "16                                                NaN  8503020   3020   \n",
      "17                                                NaN  8503006   3006   \n",
      "18                                                NaN  8504100   4100   \n",
      "19                                                NaN  8500218    218   \n",
      "20  Wegen Umbau des Bahnhofes stehen keine Angaben...  8503001   3001   \n",
      "21                                                NaN  8503003   3003   \n",
      "22                                                NaN      NaN    NaN   \n",
      "23                                                NaN  8505300   5300   \n",
      "24                                                NaN      NaN    NaN   \n",
      "25                                                NaN  8503000   3000   \n",
      "\n",
      "                                                  13  \\\n",
      "0                                                lod   \n",
      "1   http://lod.opentransportdata.swiss/didok/8509000   \n",
      "2   http://lod.opentransportdata.swiss/didok/8506000   \n",
      "3   http://lod.opentransportdata.swiss/didok/8502204   \n",
      "4   http://lod.opentransportdata.swiss/didok/8503504   \n",
      "5   http://lod.opentransportdata.swiss/didok/8501008   \n",
      "6   http://lod.opentransportdata.swiss/didok/8501120   \n",
      "7   http://lod.opentransportdata.swiss/didok/8504221   \n",
      "8   http://lod.opentransportdata.swiss/didok/8503010   \n",
      "9   http://lod.opentransportdata.swiss/didok/8502113   \n",
      "10  http://lod.opentransportdata.swiss/didok/8500010   \n",
      "11  http://lod.opentransportdata.swiss/didok/8505213   \n",
      "12  http://lod.opentransportdata.swiss/didok/8507000   \n",
      "13  http://lod.opentransportdata.swiss/didok/8504300   \n",
      "14  http://lod.opentransportdata.swiss/didok/8505000   \n",
      "15  http://lod.opentransportdata.swiss/didok/8507100   \n",
      "16  http://lod.opentransportdata.swiss/didok/8503020   \n",
      "17  http://lod.opentransportdata.swiss/didok/8503006   \n",
      "18  http://lod.opentransportdata.swiss/didok/8504100   \n",
      "19  http://lod.opentransportdata.swiss/didok/8500218   \n",
      "20  http://lod.opentransportdata.swiss/didok/8503001   \n",
      "21  http://lod.opentransportdata.swiss/didok/8503003   \n",
      "22                                               NaN   \n",
      "23  http://lod.opentransportdata.swiss/didok/8505300   \n",
      "24                                               NaN   \n",
      "25  http://lod.opentransportdata.swiss/didok/8503000   \n",
      "\n",
      "                              14         15          16  \n",
      "0                         geopos  tu_nummer  abkuerzung  \n",
      "1    46.853084163, 9.52893771993         11          CH  \n",
      "2   47.5003337739, 8.72382110762         11           W  \n",
      "3   47.1737069864, 8.51504936752         11          ZG  \n",
      "4   47.4764242751, 8.30770954022         11          BD  \n",
      "5   46.2102129079, 6.14245160789         11          GE  \n",
      "6   46.5167918174, 6.62909229044         11          LS  \n",
      "7   46.9967268195, 6.93570168072         11          NE  \n",
      "8   47.3640988005, 8.53082052143         11         ZEN  \n",
      "9   47.3913594962, 8.05127371849         11          AA  \n",
      "10   47.547412091, 7.58956277697         11          BS  \n",
      "11   46.1954317737, 9.0295185506         11         BEL  \n",
      "12   46.9488322725, 7.4391309556         11          BN  \n",
      "13  47.1328978528, 7.24291053739         11          BI  \n",
      "14  47.0501778105, 8.31018315401         11          LZ  \n",
      "15  46.7548527757, 7.62960576339         11          TH  \n",
      "16   47.385197873, 8.51712625407         11        ZHDB  \n",
      "17  47.4115300323, 8.54413989655         11        ZOER  \n",
      "18  46.8031481543, 7.15104693583         11         FRI  \n",
      "19  47.3519347412, 7.90769966099         11          OL  \n",
      "20  47.3914830997, 8.48896269022         11         ZAS  \n",
      "21  47.3666097487, 8.54848908807         11        ZSTH  \n",
      "22                           NaN        NaN         NaN  \n",
      "23  46.0055005508, 8.94699524398         11          LG  \n",
      "24                           NaN        NaN         NaN  \n",
      "25  47.3781766923, 8.54021233623         11         ZUE  \n",
      "Int64Index([0, 1, 2, 3, 4, 5, 6, 7, 8, 9, 10, 11, 12, 13, 14, 15, 16], dtype='int64')\n",
      "(26, 17)\n"
     ]
    }
   ],
   "source": [
    "import csv\n",
    "\n",
    "import pandas as pd\n",
    "\n",
    "import numpy as np\n",
    "\n",
    "\n",
    "f = open('station_csv\\\\anzahl-sbb-bahnhofbenutzer.csv',encoding = 'utf-8',errors = 'ignore')\n",
    "\n",
    "\n",
    "df=pd.read_csv(f,delimiter = ';',header = None, error_bad_lines = False)\n",
    "\n",
    "print (df.head(30))\n",
    "\n",
    "print(df.columns)  \n",
    "print(df.shape)  \n"
   ]
  },
  {
   "cell_type": "markdown",
   "metadata": {},
   "source": [
    "**The second dataset tells us the number of passengers of all stations of switzerland in 2018**\n",
    "Also:\n",
    "* Code\\shortname of stations\n",
    "* Cantons & Cities\n",
    "* The companies(SBB\\MGB\\...)\n",
    "* number of passengers in differnt situation\n",
    "\n",
    "But I didn't figure out the meaning of DTV\\DWV\\DNWV"
   ]
  },
  {
   "cell_type": "code",
   "execution_count": 17,
   "metadata": {},
   "outputs": [
    {
     "name": "stdout",
     "output_type": "stream",
     "text": [
      "get all data:\n",
      "    Code Bahnhof_Haltestelle Kanton Eigner DTV_2018 DWV_2018 DNWV_2018  \\\n",
      "0     AA               Aarau     AG    SBB    37900    44800     22700   \n",
      "1    AAT              Aathal     ZH    SBB      740      800       610   \n",
      "2    ABO   Aarburg-Oftringen     AG    SBB     2500     3000      1300   \n",
      "3   ACLA    Acla da Fontauna     GR    MGB       90       90        80   \n",
      "4     AD              Aadorf     TG    SBB     1700     2000      1000   \n",
      "5    ADF        Alpnach Dorf     OW     ZB     1200     1400       770   \n",
      "6    ADZ               Ardez     GR    RhB      240      250       240   \n",
      "7     AE               Aesch     BL    SBB     2000     2400      1300   \n",
      "8     AF  Affoltern am Albis     ZH    SBB     6800     8100      4000   \n",
      "9     AI              Airolo     TI    FFS      420      370       510   \n",
      "10   AIG               Aigle     VD    CFF     6800     7700      5000   \n",
      "11    AL             Altdorf     UR    SBB      460      500       390   \n",
      "12   ALD      Luzern Allmend     LU     ZB     1600     1600      1600   \n",
      "13  ALGR            Alp Grüm     GR    RhB      410      440       340   \n",
      "14   ALL             Allaman     VD    CFF     3400     4100      1700   \n",
      "15   ALN              Altnau     TG    SBB      370      380       330   \n",
      "16   ALT       Altstätten SG     SG    SBB     2300     2700      1500   \n",
      "17  ALTD           Altendorf     SZ    SBB      850      980       560   \n",
      "18   ALV             Alvaneu     GR    RhB      <50      <50       <50   \n",
      "19    AN         Andelfingen     ZH    SBB     2300     2700      1500   \n",
      "\n",
      "                                          Bemerkungen  \\\n",
      "0                                           Ohne AVA.   \n",
      "1                                                 NaN   \n",
      "2                                                 NaN   \n",
      "3                                                 NaN   \n",
      "4   Durchschnittswert 2018 durch Streckensperrung ...   \n",
      "5   Durchschnittswert 2018 durch Streckensperrung ...   \n",
      "6                                                 NaN   \n",
      "7                                                 NaN   \n",
      "8                                                 NaN   \n",
      "9                                                 NaN   \n",
      "10                                          Ohne TPC.   \n",
      "11                                                NaN   \n",
      "12                                                NaN   \n",
      "13                                                NaN   \n",
      "14                                                NaN   \n",
      "15                                                NaN   \n",
      "16                                                NaN   \n",
      "17                                                NaN   \n",
      "18                                                NaN   \n",
      "19                                                NaN   \n",
      "\n",
      "                                            Remarques  \\\n",
      "0                                           Sans AVA.   \n",
      "1                                                 NaN   \n",
      "2                                                 NaN   \n",
      "3                                                 NaN   \n",
      "4   Valeur moyenne 2018 à la baisse en raison de l...   \n",
      "5   Valeur moyenne 2018 à la baisse en raison de l...   \n",
      "6                                                 NaN   \n",
      "7                                                 NaN   \n",
      "8                                                 NaN   \n",
      "9                                                 NaN   \n",
      "10                                          Sans TPC.   \n",
      "11                                                NaN   \n",
      "12                                                NaN   \n",
      "13                                                NaN   \n",
      "14                                                NaN   \n",
      "15                                                NaN   \n",
      "16                                                NaN   \n",
      "17                                                NaN   \n",
      "18                                                NaN   \n",
      "19                                                NaN   \n",
      "\n",
      "                                                 Note  \\\n",
      "0                                          Senza AVA.   \n",
      "1                                                 NaN   \n",
      "2                                                 NaN   \n",
      "3                                                 NaN   \n",
      "4   Valore medio 2018 compromesso dallo sbarrament...   \n",
      "5   Valore medio 2018 compromesso dallo sbarrament...   \n",
      "6                                                 NaN   \n",
      "7                                                 NaN   \n",
      "8                                                 NaN   \n",
      "9                                                 NaN   \n",
      "10                                         Senza TPC.   \n",
      "11                                                NaN   \n",
      "12                                                NaN   \n",
      "13                                                NaN   \n",
      "14                                                NaN   \n",
      "15                                                NaN   \n",
      "16                                                NaN   \n",
      "17                                                NaN   \n",
      "18                                                NaN   \n",
      "19                                                NaN   \n",
      "\n",
      "                                             Remarks  \n",
      "0                                       Without AVA.  \n",
      "1                                                NaN  \n",
      "2                                                NaN  \n",
      "3                                                NaN  \n",
      "4   Average value for 2018 impacted by line closure.  \n",
      "5   Average value for 2018 impacted by line closure.  \n",
      "6                                                NaN  \n",
      "7                                                NaN  \n",
      "8                                                NaN  \n",
      "9                                                NaN  \n",
      "10                                      Without TPC.  \n",
      "11                                               NaN  \n",
      "12                                               NaN  \n",
      "13                                               NaN  \n",
      "14                                               NaN  \n",
      "15                                               NaN  \n",
      "16                                               NaN  \n",
      "17                                               NaN  \n",
      "18                                               NaN  \n",
      "19                                               NaN  \n"
     ]
    }
   ],
   "source": [
    "#f = open('station_csv\\\\peinaussteiger2018.xlsx',encoding = 'utf-8',errors = 'ignore')\n",
    "\n",
    "df2=pd.read_excel('station_csv\\\\peinaussteiger2018.xlsx')\n",
    "\n",
    "data=df2.head(20)\n",
    "print(\"get all data:\\n{0}\".format(data)) #格式化输出 "
   ]
  },
  {
   "cell_type": "code",
   "execution_count": 16,
   "metadata": {},
   "outputs": [
    {
     "name": "stdout",
     "output_type": "stream",
     "text": [
      "get all useful data:\n",
      "    Code Bahnhof_Haltestelle Kanton Eigner DTV_2018 DWV_2018 DNWV_2018\n",
      "0     AA               Aarau     AG    SBB    37900    44800     22700\n",
      "1    AAT              Aathal     ZH    SBB      740      800       610\n",
      "2    ABO   Aarburg-Oftringen     AG    SBB     2500     3000      1300\n",
      "3   ACLA    Acla da Fontauna     GR    MGB       90       90        80\n",
      "4     AD              Aadorf     TG    SBB     1700     2000      1000\n",
      "5    ADF        Alpnach Dorf     OW     ZB     1200     1400       770\n",
      "6    ADZ               Ardez     GR    RhB      240      250       240\n",
      "7     AE               Aesch     BL    SBB     2000     2400      1300\n",
      "8     AF  Affoltern am Albis     ZH    SBB     6800     8100      4000\n",
      "9     AI              Airolo     TI    FFS      420      370       510\n",
      "10   AIG               Aigle     VD    CFF     6800     7700      5000\n",
      "11    AL             Altdorf     UR    SBB      460      500       390\n",
      "12   ALD      Luzern Allmend     LU     ZB     1600     1600      1600\n",
      "13  ALGR            Alp Grüm     GR    RhB      410      440       340\n",
      "14   ALL             Allaman     VD    CFF     3400     4100      1700\n",
      "15   ALN              Altnau     TG    SBB      370      380       330\n",
      "16   ALT       Altstätten SG     SG    SBB     2300     2700      1500\n",
      "17  ALTD           Altendorf     SZ    SBB      850      980       560\n",
      "18   ALV             Alvaneu     GR    RhB      <50      <50       <50\n",
      "19    AN         Andelfingen     ZH    SBB     2300     2700      1500\n",
      "20   AND           Andermatt     UR    MGB     2700     2500      3100\n"
     ]
    },
    {
     "name": "stderr",
     "output_type": "stream",
     "text": [
      "D:\\Working Files\\Anaconda3\\lib\\site-packages\\ipykernel_launcher.py:1: FutureWarning: \n",
      ".ix is deprecated. Please use\n",
      ".loc for label based indexing or\n",
      ".iloc for positional indexing\n",
      "\n",
      "See the documentation here:\n",
      "http://pandas.pydata.org/pandas-docs/stable/user_guide/indexing.html#ix-indexer-is-deprecated\n",
      "  \"\"\"Entry point for launching an IPython kernel.\n"
     ]
    }
   ],
   "source": [
    "data = df2.ix[0:20,0:7]\n",
    "print(\"get all useful data:\\n{0}\".format(data)) "
   ]
  },
  {
   "cell_type": "markdown",
   "metadata": {},
   "source": [
    "### Some other informations"
   ]
  },
  {
   "cell_type": "markdown",
   "metadata": {},
   "source": [
    "**I am still working on how to pro-precess these data.csv and undertand the German language**\n",
    "\n",
    "I hope it would be useful. The basic information is about:\n",
    "\n",
    "* Verkehrspunktelemente (csv): Traffic point elements in real time. These are stop edges & stop areas.\n",
    "\n",
    "* Dienststellen (csv): Offices in real time\n",
    "\n",
    "* Station List and geos infos "
   ]
  },
  {
   "cell_type": "code",
   "execution_count": 32,
   "metadata": {},
   "outputs": [
    {
     "name": "stdout",
     "output_type": "stream",
     "text": [
      "                      SLOID  DS_NUMMER  DS_LAENDERCODE GUELTIG_VON  \\\n",
      "0  ch:1:sloid:5106:0:707233       5106              85  2020-01-06   \n",
      "1  ch:1:sloid:5106:0:509810       5106              85  2020-01-06   \n",
      "2  ch:1:sloid:5103:0:270996       5103              85  2020-01-06   \n",
      "3  ch:1:sloid:5103:0:253012       5103              85  2020-01-06   \n",
      "4  ch:1:sloid:4811:0:445911       4811              85  2020-01-06   \n",
      "\n",
      "  GUELTIG_BIS BEZEICHNUNG BEZEICHNUNG_BETRIEBLICH  LAENGE  KANTENHOEHE  \\\n",
      "0  2099-12-31         NaN                  frmi01    15.0         24.0   \n",
      "1  2099-12-31         NaN                  frmi00    25.0         24.0   \n",
      "2  2099-12-31         NaN                  fauc01    15.0         24.0   \n",
      "3  2099-12-31         NaN                  fauc00    15.0         24.0   \n",
      "4  2099-12-31         NaN                  poem01    15.0         10.0   \n",
      "\n",
      "   KOMPASSRICHTUNG  ...    N_LV03  Z_LV03   E_WGS84    N_WGS84  Z_WGS84  \\\n",
      "0            132.0  ...  123075.0 -9999.0  6.029319  46.250307  -9999.0   \n",
      "1            313.0  ...  123095.0 -9999.0  6.029262  46.250486  -9999.0   \n",
      "2             19.0  ...  123134.0 -9999.0  6.025740  46.250793  -9999.0   \n",
      "3            198.0  ...  123129.0 -9999.0  6.025468  46.250744  -9999.0   \n",
      "4             43.0  ...  121720.0 -9999.0  6.011942  46.237897  -9999.0   \n",
      "\n",
      "   DIDOK_CODE         GEAENDERT_AM         DS_SLOID  DS_BEZEICHNUNG_OFFIZIELL  \\\n",
      "0    85051060  2019-12-06 08:03:46  ch:1:sloid:5106   Saint-Genis, Mitterrand   \n",
      "1    85051060  2019-12-06 08:03:45  ch:1:sloid:5106   Saint-Genis, Mitterrand   \n",
      "2    85051037  2019-12-06 08:03:43  ch:1:sloid:5103   Saint-Genis, CERN Alice   \n",
      "3    85051037  2019-12-06 08:03:42  ch:1:sloid:5103   Saint-Genis, CERN Alice   \n",
      "4    85048116  2019-12-06 08:03:29  ch:1:sloid:4811       Thoiry, Pôle emploi   \n",
      "\n",
      "   DS_GO_IDENTIFIKATION  \n",
      "0              100680.0  \n",
      "1              100680.0  \n",
      "2              100680.0  \n",
      "3              100680.0  \n",
      "4              100680.0  \n",
      "\n",
      "[5 rows x 27 columns]\n"
     ]
    }
   ],
   "source": [
    "\n",
    "f = open('station_csv\\otherinfos2020(realtime)\\\\verkehrspunktelementefull.csv',encoding = 'utf-8',errors = 'ignore')\n",
    "\n",
    "df=pd.read_csv(f,delimiter = ';',header = 6, error_bad_lines = False)\n",
    "\n",
    "print (df.head(5))\n"
   ]
  },
  {
   "cell_type": "code",
   "execution_count": 38,
   "metadata": {},
   "outputs": [
    {
     "name": "stdout",
     "output_type": "stream",
     "text": [
      "Index(['SLOID', 'DS_NUMMER', 'DS_LAENDERCODE', 'GUELTIG_VON', 'GUELTIG_BIS',\n",
      "       'BEZEICHNUNG', 'BEZEICHNUNG_BETRIEBLICH', 'LAENGE', 'KANTENHOEHE',\n",
      "       'KOMPASSRICHTUNG', 'BPVE_ID', 'BPVE_TYPE', 'HALTEBEREICH_TYPE',\n",
      "       'E_LV95', 'N_LV95', 'Z_LV95', 'E_LV03', 'N_LV03', 'Z_LV03', 'E_WGS84',\n",
      "       'N_WGS84', 'Z_WGS84', 'DIDOK_CODE', 'GEAENDERT_AM', 'DS_SLOID',\n",
      "       'DS_BEZEICHNUNG_OFFIZIELL', 'DS_GO_IDENTIFIKATION'],\n",
      "      dtype='object')\n",
      "(10586, 27)\n"
     ]
    }
   ],
   "source": [
    "print(df.columns)  \n",
    "print(df.shape)  "
   ]
  },
  {
   "cell_type": "code",
   "execution_count": 39,
   "metadata": {},
   "outputs": [
    {
     "name": "stdout",
     "output_type": "stream",
     "text": [
      "get some useful data:\n",
      "                       SLOID  DS_NUMMER      DS_BEZEICHNUNG_OFFIZIELL  \\\n",
      "0   ch:1:sloid:5106:0:707233       5106       Saint-Genis, Mitterrand   \n",
      "1   ch:1:sloid:5106:0:509810       5106       Saint-Genis, Mitterrand   \n",
      "2   ch:1:sloid:5103:0:270996       5103       Saint-Genis, CERN Alice   \n",
      "3   ch:1:sloid:5103:0:253012       5103       Saint-Genis, CERN Alice   \n",
      "4   ch:1:sloid:4811:0:445911       4811           Thoiry, Pôle emploi   \n",
      "5   ch:1:sloid:4811:0:893246       4811           Thoiry, Pôle emploi   \n",
      "6   ch:1:sloid:5102:0:390003       5102  Saint-Genis, Clos des Vignes   \n",
      "7   ch:1:sloid:5102:0:411125       5102  Saint-Genis, Clos des Vignes   \n",
      "8   ch:1:sloid:5107:0:104864       5107          Saint-Genis, théâtre   \n",
      "9   ch:1:sloid:5107:0:809650       5107          Saint-Genis, théâtre   \n",
      "10  ch:1:sloid:4815:0:794101       4815       Ferney, Avenue de Vessy   \n",
      "11  ch:1:sloid:4815:0:539909       4815       Ferney, Avenue de Vessy   \n",
      "12     ch:1:sloid:91825:1:50      91825           Benglen, Bodenacher   \n",
      "13        ch:1:sloid:91825:1      91825           Benglen, Bodenacher   \n",
      "14     ch:1:sloid:90611:1:51      90611           Fällanden, Wigarten   \n",
      "15     ch:1:sloid:90611:1:50      90611           Fällanden, Wigarten   \n",
      "16        ch:1:sloid:90611:1      90611           Fällanden, Wigarten   \n",
      "17     ch:1:sloid:90607:1:51      90607          Fällanden, Industrie   \n",
      "18     ch:1:sloid:90607:1:50      90607          Fällanden, Industrie   \n",
      "19        ch:1:sloid:90607:1      90607          Fällanden, Industrie   \n",
      "20     ch:1:sloid:90606:1:51      90606       Fällanden, Gemeindehaus   \n",
      "\n",
      "    DS_GO_IDENTIFIKATION  \n",
      "0               100680.0  \n",
      "1               100680.0  \n",
      "2               100680.0  \n",
      "3               100680.0  \n",
      "4               100680.0  \n",
      "5               100680.0  \n",
      "6               100680.0  \n",
      "7               100680.0  \n",
      "8               100680.0  \n",
      "9               100680.0  \n",
      "10              100680.0  \n",
      "11              100680.0  \n",
      "12              100648.0  \n",
      "13              100648.0  \n",
      "14              100648.0  \n",
      "15              100648.0  \n",
      "16              100648.0  \n",
      "17              100648.0  \n",
      "18              100648.0  \n",
      "19              100648.0  \n",
      "20              100648.0  \n"
     ]
    },
    {
     "name": "stderr",
     "output_type": "stream",
     "text": [
      "D:\\Working Files\\Anaconda3\\lib\\site-packages\\ipykernel_launcher.py:1: FutureWarning: \n",
      ".ix is deprecated. Please use\n",
      ".loc for label based indexing or\n",
      ".iloc for positional indexing\n",
      "\n",
      "See the documentation here:\n",
      "http://pandas.pydata.org/pandas-docs/stable/user_guide/indexing.html#ix-indexer-is-deprecated\n",
      "  \"\"\"Entry point for launching an IPython kernel.\n"
     ]
    }
   ],
   "source": [
    "data = df.ix[0:20,['SLOID','DS_NUMMER','DS_BEZEICHNUNG_OFFIZIELL', 'DS_GO_IDENTIFIKATION']]\n",
    "print(\"get some useful data:\\n{0}\".format(data)) "
   ]
  },
  {
   "cell_type": "code",
   "execution_count": 48,
   "metadata": {},
   "outputs": [
    {
     "name": "stdout",
     "output_type": "stream",
     "text": [
      "                  0000002,Bucuresti$<1>\n",
      "0                    0000003,Calais$<1>\n",
      "1                0000004,Canterbury$<1>\n",
      "2                    0000005,Exeter$<1>\n",
      "3        0000007,\"Fideris, Bahnhof$<1>\"\n",
      "4       0000008,Frankfurt Flughafen$<1>\n",
      "5                    0000009,Gdansk$<1>\n",
      "6                  0000011,Grenchen$<1>\n",
      "7                  0000013,Istanbul$<1>\n",
      "8         0000017,Amstetten (Württ)$<1>\n",
      "9                   0000019,Avignon$<1>\n",
      "10                0000021,Barcelona$<1>\n",
      "11                    0000022,Basel$<1>\n",
      "12             0000024,Bern Bümpliz$<1>\n",
      "13               0000027,Birmingham$<1>\n",
      "14                0000028,Boudry TN$<1>\n",
      "15               0000029,Bratislava$<1>\n",
      "16                0000031,Bruxelles$<1>\n",
      "17                0000034,Liverpool$<1>\n",
      "18               0000035,Lothenbach$<1>\n",
      "19         0000036,Lothenbach (See)$<1>\n",
      "20                   0000039,Moskau$<1>\n",
      "21                   0000043,Poznan$<1>\n",
      "22                     0000047,Lyon$<1>\n",
      "23                   0000048,Madrid$<1>\n",
      "24  0000049,Madrid-Puerto de Atocha$<1>\n",
      "25               0000051,Manchester$<1>\n",
      "26   0000053,Marne-la-Vallée-Chessy$<1>\n",
      "27           0000058,St. Petersburg$<1>\n",
      "28               0000059,Tägerwilen$<1>\n",
      "29               0000060,Val-Thoiry$<1>\n"
     ]
    }
   ],
   "source": [
    "f = open('station_csv\\\\stationlist.csv',encoding = 'utf-8',errors = 'ignore')\n",
    "\n",
    "df=pd.read_csv(f,delimiter = ';',header = 1, error_bad_lines = False)\n",
    "\n",
    "print (df.head(30))"
   ]
  },
  {
   "cell_type": "code",
   "execution_count": 50,
   "metadata": {},
   "outputs": [
    {
     "name": "stdout",
     "output_type": "stream",
     "text": [
      "Index(['0000002,Bucuresti$<1>'], dtype='object')\n",
      "(26543, 1)\n"
     ]
    }
   ],
   "source": [
    "print(df.columns)  \n",
    "print(df.shape)  "
   ]
  },
  {
   "cell_type": "code",
   "execution_count": 51,
   "metadata": {},
   "outputs": [
    {
     "name": "stdout",
     "output_type": "stream",
     "text": [
      "              0000002,26.074412,44.446770,0,Bucuresti\n",
      "0                 0000003,1.811446,50.901549,0,Calais\n",
      "1             0000004,1.075329,51.284212,0,Canterbury\n",
      "2                0000005,-3.543547,50.729172,0,Exeter\n",
      "3   0000007,9.733756,46.922368,744,\"Fideris, Bahnhof\"\n",
      "4    0000008,8.571251,50.051219,0,Frankfurt Flughafen\n",
      "5                0000009,18.643803,54.355520,0,Gdansk\n",
      "6             0000011,7.389462,47.191804,467,Grenchen\n",
      "7              0000013,29.019602,40.996348,0,Istanbul\n",
      "8      0000017,9.873959,48.577852,0,Amstetten (Württ)\n",
      "9                0000019,4.786044,43.921937,0,Avignon\n",
      "10             0000021,2.140369,41.378914,0,Barcelona\n",
      "11               0000022,7.589551,47.547405,277,Basel\n",
      "12        0000024,7.395229,46.937482,562,Bern Bümpliz\n",
      "13           0000027,-1.899480,52.483627,0,Birmingham\n",
      "14           0000028,6.838953,46.949588,491,Boudry TN\n",
      "15           0000029,17.106466,48.158910,0,Bratislava\n",
      "16             0000031,4.335694,50.835376,0,Bruxelles\n",
      "17            0000034,-2.979650,53.404289,0,Liverpool\n",
      "18          0000035,8.500049,47.114619,417,Lothenbach\n",
      "19    0000036,8.500049,47.114619,417,Lothenbach (See)\n",
      "20               0000039,37.654246,55.777402,0,Moskau\n",
      "21               0000043,16.934558,52.366166,0,Poznan\n",
      "22                  0000047,4.841839,45.745054,0,Lyon\n",
      "23               0000048,-3.682351,40.472153,0,Madrid\n",
      "24  0000049,-3.690537,40.406289,0,Madrid-Puerto de...\n",
      "25           0000051,-2.242480,53.473728,0,Manchester\n",
      "26  0000053,2.782876,48.870272,0,Marne-la-Vallée-C...\n",
      "27       0000058,30.357393,59.956957,0,St. Petersburg\n",
      "28          0000059,9.132959,47.659618,404,Tägerwilen\n",
      "29          0000060,5.992531,46.227068,518,Val-Thoiry\n"
     ]
    }
   ],
   "source": [
    "f = open('station_csv\\\\bfkoordgeo.csv',encoding = 'utf-8',errors = 'ignore')\n",
    "\n",
    "df=pd.read_csv(f,delimiter = ';',header = 1, error_bad_lines = False)\n",
    "\n",
    "print (df.head(30))"
   ]
  },
  {
   "cell_type": "code",
   "execution_count": null,
   "metadata": {},
   "outputs": [],
   "source": []
  },
  {
   "cell_type": "code",
   "execution_count": null,
   "metadata": {},
   "outputs": [],
   "source": []
  },
  {
   "cell_type": "markdown",
   "metadata": {},
   "source": [
    "## Related work"
   ]
  },
  {
   "cell_type": "markdown",
   "metadata": {},
   "source": [
    "While generating the idea we have encountered several projects already related to the transportation system. \n",
    "- Transit visualization client the real time tracking of the trains for several countries by [TRAVIC](https://tracker.geops.ch/?z=8.199690625071526&s=1&x=857672.7153&y=5893181.5911&l=transport). \n",
    "- Ship transportation in Ocean by [Klin](https://www.shipmap.org/). \n",
    "\n",
    "The TRAVIC has Swiss transportation system in the map, but as it is real time tracking we cannot see the process of the point movements in some delta time as well as some information which we want to implement in this project. The source is quite informative and we may learn some details from it to incorporate into our visualization. \n",
    "\n",
    "The second source is actually very nice job for Ship transportation. The idea of the design and visualization creates several ideas for us to visualize the system on Swiss map and data. \n",
    "\n",
    "Work to be usefull: **Trafimage** maps are used to illustrate a whole range of topics relating to public transport in Switzerland. We will use probabely their API to have accurate transport map."
   ]
  }
 ],
 "metadata": {
  "kernelspec": {
   "display_name": "Python 3",
   "language": "python",
   "name": "python3"
  },
  "language_info": {
   "codemirror_mode": {
    "name": "ipython",
    "version": 3
   },
   "file_extension": ".py",
   "mimetype": "text/x-python",
   "name": "python",
   "nbconvert_exporter": "python",
   "pygments_lexer": "ipython3",
   "version": "3.7.3"
  },
  "toc": {
   "nav_menu": {},
   "number_sections": true,
   "sideBar": true,
   "skip_h1_title": false,
   "toc_cell": true,
   "toc_position": {},
   "toc_section_display": "block",
   "toc_window_display": false
  }
 },
 "nbformat": 4,
 "nbformat_minor": 2
}
