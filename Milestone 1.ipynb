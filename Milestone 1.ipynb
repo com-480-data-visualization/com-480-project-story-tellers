{
 "cells": [
  {
   "cell_type": "code",
   "execution_count": 1,
   "metadata": {},
   "outputs": [],
   "source": [
    "# imports\n",
    "import warnings\n",
    "import pandas as pd\n",
    "import matplotlib.pyplot as plt\n",
    "\n",
    "DATAFOLDER = 'data'\n",
    "warnings.filterwarnings(\"ignore\")"
   ]
  },
  {
   "cell_type": "markdown",
   "metadata": {},
   "source": [
    "# Milestone 1: \n",
    "\n",
    "In this notebook we develop the follwing sections for Milestone 1. \n",
    "\n",
    "\n",
    "\n",
    "<div class=\"toc\"><ul class=\"toc-item1\"><li><span><a href=\"#Problematic\" data-toc-modified-id=\"Problematic\">Problematic</a>\n",
    "</div>\n",
    "<div class=\"toc\"><ul class=\"toc-item2\"><li><span><a href=\"#Dataset\" data-toc-modified-id=\"Dataset\">Dataset</a>\n",
    "</div>\n",
    "<div class=\"toc\"><ul class=\"toc-item2\"><li><span><a href=\"#Exploratory Data Analysis\" data-toc-modified-id=\"Exploratory Data Analysis\">Exploratory Data Analysis</a>\n",
    "</div>\n",
    "<div class=\"toc\"><ul class=\"toc-item2\"><li><span><a href=\"#Related work\" data-toc-modified-id=\"Related work\">Related work</a>\n",
    "</div>    \n",
    "    \n",
    "Students: Mariam Hakobyan (298698), Tianchi Yu (319877), Wenuka Gunarathna (309398)\n"
   ]
  },
  {
   "cell_type": "markdown",
   "metadata": {},
   "source": [
    "## Problematic\n",
    "\n",
    "\n",
    "The project aims to visualize the swiss transport connections in different parts of the country and provide statistical-graphical visualization on the nodes connectivity, travelling time from station to station and pessenger capacities. The main pillars of the visualization will be:\n",
    "\n",
    "- **Swiss transport - map** composed of \n",
    "    - Scheduled transport movements in delta time,\n",
    "    - Route maps.\n",
    "- TODO **Figures** ( Wenuka please lets discuss to fix the figures we want to show)\n",
    "    - Figure 2,3,4\n",
    "    \n",
    "    \n",
    "The **overview** of the visualization will be a process of interactive map in modes and graphical figures for statistical story-telling.  \n",
    "\n",
    "\n",
    "The **motivation** behind the idea is to visualize the process of the biggest almost-neutral CO2 transport system work in Switzerland.\n",
    "\n",
    "The **target audience** is planned to include people who are interested in transportation systems, newtork visualizations, Switzerland and who are just curious about things in world. Will require a basic knowledge to understand the statistical figures.  \n"
   ]
  },
  {
   "cell_type": "markdown",
   "metadata": {},
   "source": [
    "## Dataset\n",
    "\n",
    "1. Sbb **schedule data** for normal weekdays/ends. The Dataset is Open source published by SBB\n",
    "2. Swiss map, station coordinates, transportation map(api access)\n",
    "3. Big station capacities\n"
   ]
  },
  {
   "cell_type": "markdown",
   "metadata": {},
   "source": [
    "The **schedule data** is under consideration to be used to visualize the transport movements in time on map. We obtain the data from [Open Data Platform Swiss Public Transport](https://opentransportdata.swiss/en/dataset/timetable-2020-hrdf). New schedules are being updated by the publisher. We have considered to use 2020 March 1st schedule, although new schedule after COVID-19 epidemic's preventaive measures can be visualized as well to see the difference of the process change in transportation.  \n",
    "\n",
    "TODO **Swiss Maps** what we will use and why,  some sources please refer to the word doc I put some things that I encounter \n",
    "\n",
    "The **Big station capacities** is about sharing the details about the train stations by the capacities of differnet stations in every cantons. The data set we are going to use comes from [Data Platform Swiss Public Transport](https://opentransportdata.swiss/en/dataset/einundaus), where we can find many information about all stations in Swiss and the number of passengers as well in 2018. With this data set, we can realise the visualisation about the capacities of stations and do some comparasion in the level of cantons and passengers."
   ]
  },
  {
   "cell_type": "markdown",
   "metadata": {},
   "source": [
    "## Exploratory Data Analysis"
   ]
  },
  {
   "cell_type": "markdown",
   "metadata": {},
   "source": [
    "### Schedule Data\n",
    "To read the txt file data several delimeters have been applied because of the structure of the text in the file. In the end we are intereted in the following attributes.\n",
    "\n",
    "-- schedule_number -- route_number -- transport_type -- start_st_id -- end_st_id -- passing_st_ids -- passing_st_names -- st_arr_times -- st_dep_times "
   ]
  },
  {
   "cell_type": "code",
   "execution_count": 2,
   "metadata": {},
   "outputs": [],
   "source": [
    "# read the .txt file and split the schedules by the separator '*Z '\n",
    "with open(DATAFOLDER + \"/2020_03_01/FPLAN\") as schedules:\n",
    "    text = schedules.read()\n",
    "result = text.split('*Z ')"
   ]
  },
  {
   "cell_type": "code",
   "execution_count": 3,
   "metadata": {},
   "outputs": [],
   "source": [
    "sch_number, route_number, transport_type, start_st_id, end_st_id, passing_st_ids, passing_st_names, st_arr_times, st_dep_times = ([] for i in range(9))\n",
    "for i in result[1:]:    \n",
    "    a = i.split('*')\n",
    "    # get the identical information about schedule \n",
    "    schedule_id = a[0].split()\n",
    "    route_number.append(schedule_id[0])\n",
    "    sch_number.append(schedule_id[-2])\n",
    "    # get the identical information about route \n",
    "    route_info = a[1].split()\n",
    "    transport_type.append(route_info[1])\n",
    "    start_st_id.append(route_info[2])\n",
    "    end_st_id.append(route_info[3])\n",
    "    st_id, station_name, arr_time, dep_time = ([] for i in range(4))\n",
    "    # the route detail\n",
    "    overall_sch = a[-1].split('%\\n')[1:-1]\n",
    "    for j in overall_sch:\n",
    "        route = j.strip().split('         ')\n",
    "        station = route[0].split()\n",
    "        st_id.append(station[0])\n",
    "        station_name.append('-'.join(station[1:]))\n",
    "        time = route[-1].split()\n",
    "        arr_time.append(time[0])\n",
    "        dep_time.append(time[-1])\n",
    "    passing_st_ids.append(st_id)\n",
    "    passing_st_names.append(station_name)\n",
    "    st_arr_times.append(arr_time)\n",
    "    st_dep_times.append(dep_time)"
   ]
  },
  {
   "cell_type": "code",
   "execution_count": 4,
   "metadata": {
    "scrolled": true
   },
   "outputs": [
    {
     "data": {
      "text/html": [
       "<div>\n",
       "<style scoped>\n",
       "    .dataframe tbody tr th:only-of-type {\n",
       "        vertical-align: middle;\n",
       "    }\n",
       "\n",
       "    .dataframe tbody tr th {\n",
       "        vertical-align: top;\n",
       "    }\n",
       "\n",
       "    .dataframe thead th {\n",
       "        text-align: right;\n",
       "    }\n",
       "</style>\n",
       "<table border=\"1\" class=\"dataframe\">\n",
       "  <thead>\n",
       "    <tr style=\"text-align: right;\">\n",
       "      <th></th>\n",
       "      <th>schedule_id</th>\n",
       "      <th>route_number</th>\n",
       "      <th>transport_type</th>\n",
       "      <th>start_station_ID</th>\n",
       "      <th>end_station_ID</th>\n",
       "      <th>route_start_time</th>\n",
       "      <th>route_end_time</th>\n",
       "      <th>passing_station_IDS</th>\n",
       "      <th>passing_st_names</th>\n",
       "      <th>arrival_times</th>\n",
       "      <th>departure_times</th>\n",
       "    </tr>\n",
       "  </thead>\n",
       "  <tbody>\n",
       "    <tr>\n",
       "      <th>0</th>\n",
       "      <td>12607908707</td>\n",
       "      <td>04700</td>\n",
       "      <td>RE</td>\n",
       "      <td>8014309</td>\n",
       "      <td>8014228</td>\n",
       "      <td>00447</td>\n",
       "      <td>00540</td>\n",
       "      <td>[8014309, 8014289, 8014288, 8014283, 8014281, ...</td>\n",
       "      <td>[Offenburg, Appenweier, Renchen-(D), Achern, B...</td>\n",
       "      <td>[00447, 00452, 00456, 00501, 00506, 00513, 005...</td>\n",
       "      <td>[00447, 00453, 00457, 00502, 00507, 00514, 005...</td>\n",
       "    </tr>\n",
       "    <tr>\n",
       "      <th>1</th>\n",
       "      <td>12606485457</td>\n",
       "      <td>04701</td>\n",
       "      <td>RE</td>\n",
       "      <td>8014228</td>\n",
       "      <td>8014309</td>\n",
       "      <td>00456</td>\n",
       "      <td>00541</td>\n",
       "      <td>[8014228, 8014241, 8014245, 8014277, 8014281, ...</td>\n",
       "      <td>[Karlsruhe-Hbf, Muggensturm, Rastatt, Baden-Ba...</td>\n",
       "      <td>[00456, 00505, 00509, 00515, 00521, 00526, 005...</td>\n",
       "      <td>[00456, 00505, 00510, 00516, 00522, 00527, 005...</td>\n",
       "    </tr>\n",
       "    <tr>\n",
       "      <th>2</th>\n",
       "      <td>12605476307</td>\n",
       "      <td>04702</td>\n",
       "      <td>RE</td>\n",
       "      <td>8014309</td>\n",
       "      <td>8014228</td>\n",
       "      <td>00546</td>\n",
       "      <td>00639</td>\n",
       "      <td>[8014309, 8014289, 8014288, 8014283, 8014281, ...</td>\n",
       "      <td>[Offenburg, Appenweier, Renchen-(D), Achern, B...</td>\n",
       "      <td>[00546, 00550, 00555, 00559, 00604, 00611, 006...</td>\n",
       "      <td>[00546, 00551, 00555, 00600, 00605, 00612, 006...</td>\n",
       "    </tr>\n",
       "    <tr>\n",
       "      <th>3</th>\n",
       "      <td>12611010807</td>\n",
       "      <td>04703</td>\n",
       "      <td>RE</td>\n",
       "      <td>8014521</td>\n",
       "      <td>8014586</td>\n",
       "      <td>00551</td>\n",
       "      <td>00725</td>\n",
       "      <td>[8014521, 8014529, 8014533, 8014534, 8014554, ...</td>\n",
       "      <td>[Villingen-(Schwarzw), Donaueschingen-00601-00...</td>\n",
       "      <td>[00551, 8014529, 00609, 00615, 00632, 8014555,...</td>\n",
       "      <td>[00551, 00602, 00610, 00619, 00633, 00636, 006...</td>\n",
       "    </tr>\n",
       "    <tr>\n",
       "      <th>4</th>\n",
       "      <td>12610946707</td>\n",
       "      <td>04704</td>\n",
       "      <td>RE</td>\n",
       "      <td>8014521</td>\n",
       "      <td>8014228</td>\n",
       "      <td>00535</td>\n",
       "      <td>00750</td>\n",
       "      <td>[8014521, 8014518, 8014513, 8014511, 8014502, ...</td>\n",
       "      <td>[Villingen-(Schwarzw), St-Georgen-(Schwarzw-00...</td>\n",
       "      <td>[00535, 8014518, 00557, 8014511, 00619, 00625,...</td>\n",
       "      <td>[00535, 00544, 00558, 00612, 00621, 00626, 006...</td>\n",
       "    </tr>\n",
       "  </tbody>\n",
       "</table>\n",
       "</div>"
      ],
      "text/plain": [
       "   schedule_id route_number transport_type start_station_ID end_station_ID  \\\n",
       "0  12607908707        04700             RE          8014309        8014228   \n",
       "1  12606485457        04701             RE          8014228        8014309   \n",
       "2  12605476307        04702             RE          8014309        8014228   \n",
       "3  12611010807        04703             RE          8014521        8014586   \n",
       "4  12610946707        04704             RE          8014521        8014228   \n",
       "\n",
       "  route_start_time route_end_time  \\\n",
       "0            00447          00540   \n",
       "1            00456          00541   \n",
       "2            00546          00639   \n",
       "3            00551          00725   \n",
       "4            00535          00750   \n",
       "\n",
       "                                 passing_station_IDS  \\\n",
       "0  [8014309, 8014289, 8014288, 8014283, 8014281, ...   \n",
       "1  [8014228, 8014241, 8014245, 8014277, 8014281, ...   \n",
       "2  [8014309, 8014289, 8014288, 8014283, 8014281, ...   \n",
       "3  [8014521, 8014529, 8014533, 8014534, 8014554, ...   \n",
       "4  [8014521, 8014518, 8014513, 8014511, 8014502, ...   \n",
       "\n",
       "                                    passing_st_names  \\\n",
       "0  [Offenburg, Appenweier, Renchen-(D), Achern, B...   \n",
       "1  [Karlsruhe-Hbf, Muggensturm, Rastatt, Baden-Ba...   \n",
       "2  [Offenburg, Appenweier, Renchen-(D), Achern, B...   \n",
       "3  [Villingen-(Schwarzw), Donaueschingen-00601-00...   \n",
       "4  [Villingen-(Schwarzw), St-Georgen-(Schwarzw-00...   \n",
       "\n",
       "                                       arrival_times  \\\n",
       "0  [00447, 00452, 00456, 00501, 00506, 00513, 005...   \n",
       "1  [00456, 00505, 00509, 00515, 00521, 00526, 005...   \n",
       "2  [00546, 00550, 00555, 00559, 00604, 00611, 006...   \n",
       "3  [00551, 8014529, 00609, 00615, 00632, 8014555,...   \n",
       "4  [00535, 8014518, 00557, 8014511, 00619, 00625,...   \n",
       "\n",
       "                                     departure_times  \n",
       "0  [00447, 00453, 00457, 00502, 00507, 00514, 005...  \n",
       "1  [00456, 00505, 00510, 00516, 00522, 00527, 005...  \n",
       "2  [00546, 00551, 00555, 00600, 00605, 00612, 006...  \n",
       "3  [00551, 00602, 00610, 00619, 00633, 00636, 006...  \n",
       "4  [00535, 00544, 00558, 00612, 00621, 00626, 006...  "
      ]
     },
     "execution_count": 4,
     "metadata": {},
     "output_type": "execute_result"
    }
   ],
   "source": [
    "# making the dataframe from obtained lists \n",
    "data_dict = {'schedule_id': sch_number, 'route_number': route_number,'transport_type': transport_type,\n",
    "            'start_station_ID': start_st_id,'end_station_ID': end_st_id, 'route_start_time': [time[0] for time in st_arr_times],\n",
    "             'route_end_time': [time[-1] for time in st_dep_times],\n",
    "            'passing_station_IDS': passing_st_ids,\n",
    "            'passing_st_names': passing_st_names, 'arrival_times':st_arr_times, 'departure_times': st_dep_times}\n",
    "data = pd.DataFrame.from_dict(data_dict)\n",
    "data.head()"
   ]
  },
  {
   "cell_type": "code",
   "execution_count": 5,
   "metadata": {},
   "outputs": [
    {
     "name": "stdout",
     "output_type": "stream",
     "text": [
      "The number of available schedules until 2020 March 1st for a day in Switzerland: 473233\n"
     ]
    }
   ],
   "source": [
    "print(\"The number of available schedules until 2020 March 1st for a day in Switzerland: {}\".format(data.shape[0]))"
   ]
  },
  {
   "cell_type": "markdown",
   "metadata": {},
   "source": [
    "**T1.** We are interested to know the terminal stations with many initializing schedules. \n",
    "\n",
    "For now we have the station_ids only, there is a mapping of st_id <-> st_name stored as another dataset so we process it here."
   ]
  },
  {
   "cell_type": "code",
   "execution_count": 6,
   "metadata": {},
   "outputs": [
    {
     "data": {
      "text/html": [
       "<div>\n",
       "<style scoped>\n",
       "    .dataframe tbody tr th:only-of-type {\n",
       "        vertical-align: middle;\n",
       "    }\n",
       "\n",
       "    .dataframe tbody tr th {\n",
       "        vertical-align: top;\n",
       "    }\n",
       "\n",
       "    .dataframe thead th {\n",
       "        text-align: right;\n",
       "    }\n",
       "</style>\n",
       "<table border=\"1\" class=\"dataframe\">\n",
       "  <thead>\n",
       "    <tr style=\"text-align: right;\">\n",
       "      <th></th>\n",
       "      <th>station_id</th>\n",
       "      <th>station_name</th>\n",
       "    </tr>\n",
       "  </thead>\n",
       "  <tbody>\n",
       "    <tr>\n",
       "      <th>0</th>\n",
       "      <td>0000002</td>\n",
       "      <td>Bucuresti</td>\n",
       "    </tr>\n",
       "    <tr>\n",
       "      <th>1</th>\n",
       "      <td>0000003</td>\n",
       "      <td>Calais</td>\n",
       "    </tr>\n",
       "    <tr>\n",
       "      <th>2</th>\n",
       "      <td>0000004</td>\n",
       "      <td>Canterbury</td>\n",
       "    </tr>\n",
       "    <tr>\n",
       "      <th>3</th>\n",
       "      <td>0000005</td>\n",
       "      <td>Exeter</td>\n",
       "    </tr>\n",
       "    <tr>\n",
       "      <th>4</th>\n",
       "      <td>0000008</td>\n",
       "      <td>Frankfurt-Flughafen</td>\n",
       "    </tr>\n",
       "  </tbody>\n",
       "</table>\n",
       "</div>"
      ],
      "text/plain": [
       "  station_id         station_name\n",
       "0    0000002            Bucuresti\n",
       "1    0000003               Calais\n",
       "2    0000004           Canterbury\n",
       "3    0000005               Exeter\n",
       "4    0000008  Frankfurt-Flughafen"
      ]
     },
     "execution_count": 6,
     "metadata": {},
     "output_type": "execute_result"
    }
   ],
   "source": [
    "# to get the name of the station ids we read the dataset \n",
    "with open(DATAFOLDER + \"/2020_03_01/BAHNHOF\") as stations:\n",
    "    text = stations.read()\n",
    "result = text.split('\\n')\n",
    "\n",
    "station_id, st_name = [], [] \n",
    "for i in result[:-1]:\n",
    "    a = i.split()\n",
    "    station_id.append(a[0])\n",
    "    st_name.append('-'.join(a[1:]).split('$<')[0])\n",
    "station_dict = {'station_id': station_id, 'station_name': st_name}\n",
    "stations = pd.DataFrame.from_dict(station_dict)\n",
    "stations.head()"
   ]
  },
  {
   "cell_type": "code",
   "execution_count": 7,
   "metadata": {},
   "outputs": [
    {
     "data": {
      "text/plain": [
       "Text(0.5, 0, 'Number of schedules originated from station in a day')"
      ]
     },
     "execution_count": 7,
     "metadata": {},
     "output_type": "execute_result"
    },
    {
     "data": {
      "image/png": "[encoded data removed]",
      "text/plain": [
       "<Figure size 432x288 with 1 Axes>"
      ]
     },
     "metadata": {
      "needs_background": "light"
     },
     "output_type": "display_data"
    }
   ],
   "source": [
    "# plot the mostly used stations as a terminal point barchart.\n",
    "b = pd.merge(data['start_station_ID'], stations, how = 'left', left_on = 'start_station_ID', right_on = 'station_id')\n",
    "ax = b.station_name.value_counts()[:20].plot.barh(legend=False)\n",
    "ax.set_ylabel('Start stations')\n",
    "ax.set_xlabel('Number of schedules originated from station in a day')"
   ]
  },
  {
   "cell_type": "markdown",
   "metadata": {},
   "source": [
    "**T2.** In map visualization we have an idea to color the moving dots (transports) based on the transportation_type, so that is why we are interested in the top 5 transportation types in the schedule."
   ]
  },
  {
   "cell_type": "code",
   "execution_count": 8,
   "metadata": {},
   "outputs": [
    {
     "data": {
      "text/plain": [
       "Text(0.5, 0, 'Number of schedules for different route types')"
      ]
     },
     "execution_count": 8,
     "metadata": {},
     "output_type": "execute_result"
    },
    {
     "data": {
      "image/png": "[encoded data removed]",
      "text/plain": [
       "<Figure size 432x288 with 1 Axes>"
      ]
     },
     "metadata": {
      "needs_background": "light"
     },
     "output_type": "display_data"
    }
   ],
   "source": [
    "ax = data.transport_type.value_counts()[:5].plot.barh(legend=False)\n",
    "ax.set_ylabel('Transportation type')\n",
    "ax.set_xlabel('Number of schedules for different route types')"
   ]
  },
  {
   "cell_type": "markdown",
   "metadata": {},
   "source": [
    "Here the \"B\" indicates buses, \"T\" to trams, \"S\" to short route regional trains, \"GB\" to lift and \"FUN\" to funiculor.  "
   ]
  },
  {
   "cell_type": "markdown",
   "metadata": {},
   "source": [
    "**T3.** We are interested to visualize the distribution of the number of trains on time, to that reason **route_start_time** is used. We have noticed that some schedules have strange start time (e.i. 27:20) so we have cut this cases with 30h to see the outlier occurencies(further preprocessing will be done to see the schedules arising this time incosistency).   "
   ]
  },
  {
   "cell_type": "code",
   "execution_count": 9,
   "metadata": {},
   "outputs": [
    {
     "data": {
      "image/png": "[encoded data removed]",
      "text/plain": [
       "<Figure size 432x288 with 1 Axes>"
      ]
     },
     "metadata": {
      "needs_background": "light"
     },
     "output_type": "display_data"
    }
   ],
   "source": [
    "# the variable needs to be preprocessed to correctly identify the anomalies\n",
    "data.route_start_time = abs(data.route_start_time.astype(int)/100)\n",
    "n, bins, patches = plt.hist(data[data.route_start_time < 40].route_start_time, bins = 30)\n",
    "plt.xlabel('Hour')\n",
    "plt.ylabel('Frequency')\n",
    "plt.title('Histogram of number of trains starting at some period of time')\n",
    "plt.show()"
   ]
  },
  {
   "cell_type": "markdown",
   "metadata": {},
   "source": [
    "Here we see that the schedule frequencies are high around 7-10h and 18-20h because of the commuters, so we should be able to see the same pattern on the map visualization while the time tick. "
   ]
  },
  {
   "cell_type": "markdown",
   "metadata": {},
   "source": [
    "## Station capacity and train capacity"
   ]
  },
  {
   "cell_type": "markdown",
   "metadata": {},
   "source": [
    "**Basic information in this data set**\n",
    "\n",
    "* The number of passengers of all stations of switzerland in 2018\n",
    "* Code\\shortname of stations\n",
    "* Cantons & Cities\n",
    "* The transport companies(SBB\\MGB\\...)\n",
    "\n",
    "**Visualisation** The comparation of capacities of different big stations and cantons"
   ]
  },
  {
   "cell_type": "code",
   "execution_count": 10,
   "metadata": {},
   "outputs": [
    {
     "name": "stdout",
     "output_type": "stream",
     "text": [
      "The data contains passenger capacity information for 906 stations in Switzerland.\n"
     ]
    },
    {
     "data": {
      "text/html": [
       "<div>\n",
       "<style scoped>\n",
       "    .dataframe tbody tr th:only-of-type {\n",
       "        vertical-align: middle;\n",
       "    }\n",
       "\n",
       "    .dataframe tbody tr th {\n",
       "        vertical-align: top;\n",
       "    }\n",
       "\n",
       "    .dataframe thead th {\n",
       "        text-align: right;\n",
       "    }\n",
       "</style>\n",
       "<table border=\"1\" class=\"dataframe\">\n",
       "  <thead>\n",
       "    <tr style=\"text-align: right;\">\n",
       "      <th></th>\n",
       "      <th>Code</th>\n",
       "      <th>Bahnhof_Haltestelle</th>\n",
       "      <th>Kanton</th>\n",
       "      <th>Eigner</th>\n",
       "      <th>DTV_2018</th>\n",
       "      <th>DWV_2018</th>\n",
       "      <th>DNWV_2018</th>\n",
       "      <th>Bemerkungen</th>\n",
       "      <th>Remarques</th>\n",
       "      <th>Note</th>\n",
       "      <th>Remarks</th>\n",
       "    </tr>\n",
       "  </thead>\n",
       "  <tbody>\n",
       "    <tr>\n",
       "      <th>0</th>\n",
       "      <td>AA</td>\n",
       "      <td>Aarau</td>\n",
       "      <td>AG</td>\n",
       "      <td>SBB</td>\n",
       "      <td>37900</td>\n",
       "      <td>44800</td>\n",
       "      <td>22700</td>\n",
       "      <td>Ohne AVA.</td>\n",
       "      <td>Sans AVA.</td>\n",
       "      <td>Senza AVA.</td>\n",
       "      <td>Without AVA.</td>\n",
       "    </tr>\n",
       "    <tr>\n",
       "      <th>1</th>\n",
       "      <td>AAT</td>\n",
       "      <td>Aathal</td>\n",
       "      <td>ZH</td>\n",
       "      <td>SBB</td>\n",
       "      <td>740</td>\n",
       "      <td>800</td>\n",
       "      <td>610</td>\n",
       "      <td>NaN</td>\n",
       "      <td>NaN</td>\n",
       "      <td>NaN</td>\n",
       "      <td>NaN</td>\n",
       "    </tr>\n",
       "    <tr>\n",
       "      <th>2</th>\n",
       "      <td>ABO</td>\n",
       "      <td>Aarburg-Oftringen</td>\n",
       "      <td>AG</td>\n",
       "      <td>SBB</td>\n",
       "      <td>2500</td>\n",
       "      <td>3000</td>\n",
       "      <td>1300</td>\n",
       "      <td>NaN</td>\n",
       "      <td>NaN</td>\n",
       "      <td>NaN</td>\n",
       "      <td>NaN</td>\n",
       "    </tr>\n",
       "    <tr>\n",
       "      <th>3</th>\n",
       "      <td>ACLA</td>\n",
       "      <td>Acla da Fontauna</td>\n",
       "      <td>GR</td>\n",
       "      <td>MGB</td>\n",
       "      <td>90</td>\n",
       "      <td>90</td>\n",
       "      <td>80</td>\n",
       "      <td>NaN</td>\n",
       "      <td>NaN</td>\n",
       "      <td>NaN</td>\n",
       "      <td>NaN</td>\n",
       "    </tr>\n",
       "    <tr>\n",
       "      <th>4</th>\n",
       "      <td>AD</td>\n",
       "      <td>Aadorf</td>\n",
       "      <td>TG</td>\n",
       "      <td>SBB</td>\n",
       "      <td>1700</td>\n",
       "      <td>2000</td>\n",
       "      <td>1000</td>\n",
       "      <td>Durchschnittswert 2018 durch Streckensperrung ...</td>\n",
       "      <td>Valeur moyenne 2018 à la baisse en raison de l...</td>\n",
       "      <td>Valore medio 2018 compromesso dallo sbarrament...</td>\n",
       "      <td>Average value for 2018 impacted by line closure.</td>\n",
       "    </tr>\n",
       "  </tbody>\n",
       "</table>\n",
       "</div>"
      ],
      "text/plain": [
       "   Code Bahnhof_Haltestelle Kanton Eigner DTV_2018 DWV_2018 DNWV_2018  \\\n",
       "0    AA               Aarau     AG    SBB    37900    44800     22700   \n",
       "1   AAT              Aathal     ZH    SBB      740      800       610   \n",
       "2   ABO   Aarburg-Oftringen     AG    SBB     2500     3000      1300   \n",
       "3  ACLA    Acla da Fontauna     GR    MGB       90       90        80   \n",
       "4    AD              Aadorf     TG    SBB     1700     2000      1000   \n",
       "\n",
       "                                         Bemerkungen  \\\n",
       "0                                          Ohne AVA.   \n",
       "1                                                NaN   \n",
       "2                                                NaN   \n",
       "3                                                NaN   \n",
       "4  Durchschnittswert 2018 durch Streckensperrung ...   \n",
       "\n",
       "                                           Remarques  \\\n",
       "0                                          Sans AVA.   \n",
       "1                                                NaN   \n",
       "2                                                NaN   \n",
       "3                                                NaN   \n",
       "4  Valeur moyenne 2018 à la baisse en raison de l...   \n",
       "\n",
       "                                                Note  \\\n",
       "0                                         Senza AVA.   \n",
       "1                                                NaN   \n",
       "2                                                NaN   \n",
       "3                                                NaN   \n",
       "4  Valore medio 2018 compromesso dallo sbarrament...   \n",
       "\n",
       "                                            Remarks  \n",
       "0                                      Without AVA.  \n",
       "1                                               NaN  \n",
       "2                                               NaN  \n",
       "3                                               NaN  \n",
       "4  Average value for 2018 impacted by line closure.  "
      ]
     },
     "execution_count": 10,
     "metadata": {},
     "output_type": "execute_result"
    }
   ],
   "source": [
    "df = pd.read_excel(DATAFOLDER +'/passengers2018.xlsx')\n",
    "\n",
    "# get the size of the data set\n",
    "print(\"The data contains passenger capacity information for {} stations in Switzerland.\".format(df.shape[0]))\n",
    "# get some sample of the data\n",
    "df.head() "
   ]
  },
  {
   "cell_type": "markdown",
   "metadata": {},
   "source": [
    "<img src=\"data/image.png\">"
   ]
  },
  {
   "cell_type": "code",
   "execution_count": 11,
   "metadata": {},
   "outputs": [
    {
     "data": {
      "text/html": [
       "<div>\n",
       "<style scoped>\n",
       "    .dataframe tbody tr th:only-of-type {\n",
       "        vertical-align: middle;\n",
       "    }\n",
       "\n",
       "    .dataframe tbody tr th {\n",
       "        vertical-align: top;\n",
       "    }\n",
       "\n",
       "    .dataframe thead th {\n",
       "        text-align: right;\n",
       "    }\n",
       "</style>\n",
       "<table border=\"1\" class=\"dataframe\">\n",
       "  <thead>\n",
       "    <tr style=\"text-align: right;\">\n",
       "      <th></th>\n",
       "      <th>station_ID</th>\n",
       "      <th>station_name/city</th>\n",
       "      <th>canton</th>\n",
       "      <th>company</th>\n",
       "      <th>DTV_2018</th>\n",
       "      <th>DWV_2018</th>\n",
       "      <th>DNWV_2018</th>\n",
       "    </tr>\n",
       "  </thead>\n",
       "  <tbody>\n",
       "    <tr>\n",
       "      <th>0</th>\n",
       "      <td>AA</td>\n",
       "      <td>Aarau</td>\n",
       "      <td>AG</td>\n",
       "      <td>SBB</td>\n",
       "      <td>37900</td>\n",
       "      <td>44800</td>\n",
       "      <td>22700</td>\n",
       "    </tr>\n",
       "    <tr>\n",
       "      <th>1</th>\n",
       "      <td>AAT</td>\n",
       "      <td>Aathal</td>\n",
       "      <td>ZH</td>\n",
       "      <td>SBB</td>\n",
       "      <td>740</td>\n",
       "      <td>800</td>\n",
       "      <td>610</td>\n",
       "    </tr>\n",
       "    <tr>\n",
       "      <th>2</th>\n",
       "      <td>ABO</td>\n",
       "      <td>Aarburg-Oftringen</td>\n",
       "      <td>AG</td>\n",
       "      <td>SBB</td>\n",
       "      <td>2500</td>\n",
       "      <td>3000</td>\n",
       "      <td>1300</td>\n",
       "    </tr>\n",
       "    <tr>\n",
       "      <th>3</th>\n",
       "      <td>ACLA</td>\n",
       "      <td>Acla da Fontauna</td>\n",
       "      <td>GR</td>\n",
       "      <td>MGB</td>\n",
       "      <td>90</td>\n",
       "      <td>90</td>\n",
       "      <td>80</td>\n",
       "    </tr>\n",
       "    <tr>\n",
       "      <th>4</th>\n",
       "      <td>AD</td>\n",
       "      <td>Aadorf</td>\n",
       "      <td>TG</td>\n",
       "      <td>SBB</td>\n",
       "      <td>1700</td>\n",
       "      <td>2000</td>\n",
       "      <td>1000</td>\n",
       "    </tr>\n",
       "  </tbody>\n",
       "</table>\n",
       "</div>"
      ],
      "text/plain": [
       "  station_ID  station_name/city canton company DTV_2018 DWV_2018 DNWV_2018\n",
       "0         AA              Aarau     AG     SBB    37900    44800     22700\n",
       "1        AAT             Aathal     ZH     SBB      740      800       610\n",
       "2        ABO  Aarburg-Oftringen     AG     SBB     2500     3000      1300\n",
       "3       ACLA   Acla da Fontauna     GR     MGB       90       90        80\n",
       "4         AD             Aadorf     TG     SBB     1700     2000      1000"
      ]
     },
     "execution_count": 11,
     "metadata": {},
     "output_type": "execute_result"
    }
   ],
   "source": [
    "# change the name,and keep the useful data\n",
    "df_p = df.fillna(value=0)\n",
    "df_p = df_p.rename(columns = {'Code':'station_ID','Bahnhof_Haltestelle':'station_name/city', 'Kanton':'canton', 'Eigner':'company'})\n",
    "data = df_p.iloc[:,0:7]\n",
    "#data = data.set_index('station_ID')\n",
    "data.head()"
   ]
  },
  {
   "cell_type": "code",
   "execution_count": null,
   "metadata": {},
   "outputs": [],
   "source": [
    "# Data cleaning\n",
    "# set the number <50 to 49\n",
    "data['DTV_2018'] = data['DTV_2018'].replace('<50','49')\n",
    "data['DWV_2018'] = data['DWV_2018'].replace('<50','49')\n",
    "data['DNWV_2018'] = data['DNWV_2018'].replace('<50','49')\n",
    "#change the type of value in the data set\n",
    "data['DTV_2018'] = data['DTV_2018'].astype('int')\n",
    "data['DWV_2018'] = data['DWV_2018'].astype('int')\n",
    "data['DNWV_2018'] = data['DNWV_2018'].astype('int')\n",
    "# Merge the same company with different names\n",
    "data['company'] = data['company'].replace('CFF','SBB')\n",
    "data['company'] = data['company'].replace('FFS','SBB')\n",
    "data.head()"
   ]
  },
  {
   "cell_type": "markdown",
   "metadata": {},
   "source": [
    "* **First, define the Big Stations(with the average daily traffic in 2018 > 30000)**"
   ]
  },
  {
   "cell_type": "code",
   "execution_count": null,
   "metadata": {},
   "outputs": [],
   "source": [
    "data_big = data.loc[(data['DTV_2018'] > 30000),['station_ID','station_name/city','canton','DTV_2018']]\n",
    "data_big.head()"
   ]
  },
  {
   "cell_type": "code",
   "execution_count": null,
   "metadata": {},
   "outputs": [],
   "source": [
    "# show the capacity of the biggest stations in different cantons of 2018\n",
    "name_list = data_big['station_name/city']\n",
    "num_list = data_big.DTV_2018\n",
    "plt.figure(figsize=(10,4)) \n",
    "plt.xlabel('capacity/average number of passengers per day')\n",
    "plt.ylabel('big stations')\n",
    "plt.barh(range(len(name_list)), num_list, height=0.7, color='steelblue', alpha=0.8) \n",
    "plt.yticks(range(len(name_list)), name_list)\n",
    "plt.xlim(30000,450000)\n",
    "\n",
    "plt.title('The capacity of big stations(by the number of the passengers)')\n",
    "plt.show()"
   ]
  },
  {
   "cell_type": "markdown",
   "metadata": {},
   "source": [
    "* **Show the frequency of cantons in the level of big stations**"
   ]
  },
  {
   "cell_type": "code",
   "execution_count": null,
   "metadata": {},
   "outputs": [],
   "source": [
    "big_canton_count = data_big.groupby('canton')['station_name/city'].count()\n",
    "big_canton_count = big_canton_count.reset_index()\n",
    "big_canton_count.head()"
   ]
  },
  {
   "cell_type": "code",
   "execution_count": null,
   "metadata": {},
   "outputs": [],
   "source": [
    "# get the list of cantons\n",
    "canton_list = data['canton'].drop_duplicates()\n",
    "canton_list = canton_list.reset_index()\n",
    "canton_left = pd.merge(canton_list['canton'],big_canton_count,how = 'left')\n",
    "canton_left = canton_left.fillna(value=0)\n",
    "\n",
    "# show the number of big sations in different cantons\n",
    "name_list = canton_left['canton']\n",
    "num_list = canton_left['station_name/city']\n",
    "plt.figure(figsize=(10,10)) \n",
    "plt.xlabel('the number of big sations')\n",
    "plt.ylabel('cantons')\n",
    "values = plt.barh(range(len(name_list)), num_list, height=0.6, color='steelblue', alpha=0.8) \n",
    "plt.yticks(range(len(name_list)), name_list)\n",
    "plt.xlim(0,10)\n",
    "for value in values:\n",
    "    width = value.get_width()\n",
    "    plt.text( width+0.3,value.get_y(), str(width), ha=\"center\", va=\"bottom\")\n",
    "plt.title('The number of big sations in different cantons')\n",
    "plt.show()"
   ]
  },
  {
   "cell_type": "markdown",
   "metadata": {},
   "source": [
    "**Visualisation** The passengers number in the comparny levels and in canton levels\n",
    "\n",
    "* First, we can see the number of stations owned by different companies"
   ]
  },
  {
   "cell_type": "code",
   "execution_count": null,
   "metadata": {},
   "outputs": [],
   "source": [
    "data_com = data.groupby('company')['station_ID'].count()\n",
    "data_com = data_com.reset_index()\n",
    "data_com"
   ]
  },
  {
   "cell_type": "code",
   "execution_count": null,
   "metadata": {},
   "outputs": [],
   "source": [
    "plt.figure(figsize=(6,9)) \n",
    "name_list = data_com.company\n",
    "num_list = data_com.station_ID\n",
    "labels = name_list \n",
    "sizes = num_list \n",
    "colors = ['red','yellowgreen','lightskyblue','yellow',\"blue\",\"orange\"] \n",
    "explode = (0,0,0.15,0,0,0) \n",
    "patches,text1,text2 = plt.pie(sizes,\n",
    "                      explode=explode,\n",
    "                      labels=labels,\n",
    "                      colors=colors,\n",
    "                      autopct = '%3.2f%%', \n",
    "                      shadow = True, \n",
    "                      startangle =90, \n",
    "                      pctdistance = 0.6) \n",
    "plt.axis('equal')\n",
    "plt.title('The frequency of different company in the level of stations')\n",
    "plt.show()"
   ]
  },
  {
   "cell_type": "markdown",
   "metadata": {},
   "source": [
    "* Moreover, we can visualise the inportance of different companies by the number of pessengers in their owned stations."
   ]
  },
  {
   "cell_type": "code",
   "execution_count": null,
   "metadata": {},
   "outputs": [],
   "source": [
    "data_com = data.groupby('company')['DTV_2018'].sum()\n",
    "data_com = data_com.reset_index()\n",
    "data_com.head()"
   ]
  },
  {
   "cell_type": "code",
   "execution_count": null,
   "metadata": {},
   "outputs": [],
   "source": [
    "plt.figure(figsize=(6,6)) \n",
    "name_list = data_com.company\n",
    "num_list = data_com.DTV_2018\n",
    "labels = name_list \n",
    "sizes = num_list \n",
    "colors = ['red','yellowgreen','lightskyblue','yellow',\"blue\",\"orange\"]\n",
    "explode = (0,0,0.15,0,0,0) \n",
    "patches,text1,text2 = plt.pie(sizes,\n",
    "                      explode=explode,\n",
    "                      labels=labels,\n",
    "                      colors=colors,\n",
    "                      autopct = '%3.2f%%',\n",
    "                      shadow = True, \n",
    "                      startangle =180, \n",
    "                      pctdistance = 0.6) \n",
    "plt.axis('equal')\n",
    "plt.title('The importance of different companies by the number of pessengers')\n",
    "plt.show()"
   ]
  },
  {
   "cell_type": "markdown",
   "metadata": {},
   "source": [
    "* And then, the percentage of passengers in different cantons is following to show"
   ]
  },
  {
   "cell_type": "code",
   "execution_count": null,
   "metadata": {},
   "outputs": [],
   "source": [
    "data_can_p = data.groupby('canton')['DTV_2018'].sum()\n",
    "data_can_p = data_can_p.reset_index()"
   ]
  },
  {
   "cell_type": "code",
   "execution_count": null,
   "metadata": {},
   "outputs": [],
   "source": [
    "plt.figure(figsize=(8,8)) \n",
    "name_list = data_can_p.canton\n",
    "num_list = data_can_p.DTV_2018\n",
    "labels = name_list \n",
    "sizes = num_list \n",
    "colors = ['red','yellowgreen','lightskyblue','yellow',\"blue\",\"red\",\"coral\",\"green\",\"yellow\",\"orange\"] \n",
    "#explode = (0,0,0,0) \n",
    "patches,text1,text2 = plt.pie(sizes,\n",
    "                      #explode=explode,\n",
    "                      labels=labels,\n",
    "                      colors=colors,\n",
    "                      autopct = '%3.2f%%', \n",
    "                      shadow = False, \n",
    "                      startangle =90, \n",
    "                      pctdistance = 0.6) \n",
    "plt.axis('equal')\n",
    "plt.title('The percentage of passengers in different cantons')\n",
    "plt.show()"
   ]
  },
  {
   "cell_type": "markdown",
   "metadata": {},
   "source": [
    "**Visualisation** For each canton, we can compare the flow between the weekdays and weekends."
   ]
  },
  {
   "cell_type": "code",
   "execution_count": null,
   "metadata": {},
   "outputs": [],
   "source": [
    "data_flow = data.groupby('canton')['DWV_2018','DNWV_2018'].sum()\n",
    "data_flow = data_flow.reset_index()\n",
    "data_flow.head()"
   ]
  },
  {
   "cell_type": "code",
   "execution_count": null,
   "metadata": {},
   "outputs": [],
   "source": [
    "# show the fraffic flows differences between weekdays and weekends/holidays\n",
    "name_list = data_flow.canton\n",
    "num_list1 = data_flow['DWV_2018']\n",
    "num_list2 = data_flow['DNWV_2018']\n",
    "plt.figure(figsize=(10,10)) \n",
    "plt.xlabel('canton')\n",
    "plt.ylabel('capacity/number of passengers per day')\n",
    "\n",
    "x = range(len(num_list1))\n",
    " \n",
    "plt.bar(x, height = num_list1, width=0.4, label='DWV_2018',fc = 'y')\n",
    "plt.bar([i + 0.4 for i in x], height = num_list2, width=0.4, label='DNWV_2018',fc = 'r')\n",
    "\n",
    "#plt.tick_label = name_list\n",
    "plt.xticks([index + 0.2 for index in x], name_list)\n",
    "plt.title('The fraffic flows differences between weekdays and weekends/holidays')\n",
    "\n",
    "plt.legend()\n",
    "plt.show()"
   ]
  },
  {
   "cell_type": "markdown",
   "metadata": {},
   "source": [
    "## Related work"
   ]
  },
  {
   "cell_type": "markdown",
   "metadata": {},
   "source": [
    "While generating the idea we have encountered several projects already related to the transportation system. \n",
    "- Transit visualization client the real time tracking of the trains for several countries by [TRAVIC](https://tracker.geops.ch/?z=8.199690625071526&s=1&x=857672.7153&y=5893181.5911&l=transport). \n",
    "- Ship transportation in Ocean by [Klin](https://www.shipmap.org/). \n",
    "\n",
    "The TRAVIC has Swiss transportation system in world map, but as it is real time tracking we cannot see the process of the point movements in timelapse. The source is quite informative and we may learn some details from it to incorporate into our visualization. \n",
    "\n",
    "The second source is actually very nice job for ship transportation. The idea of the design and visualization creates several ideas for us to visualize the system on Swiss map and data. \n",
    "\n",
    "Work to be useful: **Trafimage** maps are used to illustrate a whole range of topics relating to public transport in Switzerland. We will use probabely their API to have accurate transport map."
   ]
  }
 ],
 "metadata": {
  "kernelspec": {
   "display_name": "Python 3",
   "language": "python",
   "name": "python3"
  },
  "language_info": {
   "codemirror_mode": {
    "name": "ipython",
    "version": 3
   },
   "file_extension": ".py",
   "mimetype": "text/x-python",
   "name": "python",
   "nbconvert_exporter": "python",
   "pygments_lexer": "ipython3",
   "version": "3.6.8"
  }
 },
 "nbformat": 4,
 "nbformat_minor": 2
}
